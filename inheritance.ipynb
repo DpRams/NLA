{
 "cells": [
  {
   "cell_type": "code",
   "execution_count": 8,
   "metadata": {},
   "outputs": [],
   "source": [
    "class Person():\n",
    "    def __init__(self, name=\"Person\"):\n",
    "        self.name = name\n",
    "\n",
    "    def saying(self):\n",
    "        print(\"saying from Person\")\n",
    "\n",
    "class Student(Person):\n",
    "    \n",
    "    def __init__(self, name=\"123465\"):\n",
    "        super().__init__(name=\"123465\")\n",
    "\n",
    "    def saying(self):\n",
    "        print(\"saying from Student\")\n",
    "\n",
    "    def farting(self):\n",
    "        print(\"farting\")\n",
    "        print(self.name)"
   ]
  },
  {
   "cell_type": "code",
   "execution_count": 9,
   "metadata": {},
   "outputs": [
    {
     "name": "stdout",
     "output_type": "stream",
     "text": [
      "saying from Person\n"
     ]
    }
   ],
   "source": [
    "Jason = Person(\"Jason\")\n",
    "Jason.saying()"
   ]
  },
  {
   "cell_type": "code",
   "execution_count": 10,
   "metadata": {},
   "outputs": [
    {
     "name": "stdout",
     "output_type": "stream",
     "text": [
      "saying from Student\n"
     ]
    }
   ],
   "source": [
    "Jason = Student(\"Kevin\")\n",
    "Jason.name\n",
    "Jason.saying()"
   ]
  },
  {
   "cell_type": "code",
   "execution_count": 25,
   "metadata": {},
   "outputs": [
    {
     "data": {
      "text/plain": [
       "1e-11"
      ]
     },
     "execution_count": 25,
     "metadata": {},
     "output_type": "execute_result"
    }
   ],
   "source": [
    "eval(\"1e-11\")"
   ]
  },
  {
   "cell_type": "code",
   "execution_count": 12,
   "metadata": {},
   "outputs": [
    {
     "ename": "IndexError",
     "evalue": "tuple index out of range",
     "output_type": "error",
     "traceback": [
      "\u001b[1;31m---------------------------------------------------------------------------\u001b[0m",
      "\u001b[1;31mIndexError\u001b[0m                                Traceback (most recent call last)",
      "\u001b[1;32mc:\\Users\\user\\rams\\projcet\\inheritance.ipynb Cell 5\u001b[0m in \u001b[0;36m<cell line: 4>\u001b[1;34m()\u001b[0m\n\u001b[0;32m      <a href='vscode-notebook-cell:/c%3A/Users/user/rams/projcet/inheritance.ipynb#W4sZmlsZQ%3D%3D?line=0'>1</a>\u001b[0m \u001b[39mfrom\u001b[39;00m \u001b[39mnetwork\u001b[39;00m\u001b[39m.\u001b[39;00m\u001b[39mnet\u001b[39;00m \u001b[39mimport\u001b[39;00m RIRO\n\u001b[0;32m      <a href='vscode-notebook-cell:/c%3A/Users/user/rams/projcet/inheritance.ipynb#W4sZmlsZQ%3D%3D?line=1'>2</a>\u001b[0m \u001b[39mimport\u001b[39;00m \u001b[39mnumpy\u001b[39;00m \u001b[39mas\u001b[39;00m \u001b[39mnp\u001b[39;00m\n\u001b[1;32m----> <a href='vscode-notebook-cell:/c%3A/Users/user/rams/projcet/inheritance.ipynb#W4sZmlsZQ%3D%3D?line=3'>4</a>\u001b[0m riro \u001b[39m=\u001b[39m RIRO(\u001b[39m1\u001b[39;49m, np\u001b[39m.\u001b[39;49marray([\u001b[39m1\u001b[39;49m,\u001b[39m2\u001b[39;49m,\u001b[39m3\u001b[39;49m]), np\u001b[39m.\u001b[39;49marray([\u001b[39m1\u001b[39;49m,\u001b[39m2\u001b[39;49m,\u001b[39m3\u001b[39;49m]))\n",
      "File \u001b[1;32mc:\\Users\\user\\rams\\projcet\\network\\net.py:120\u001b[0m, in \u001b[0;36mRIRO.__init__\u001b[1;34m(self, nb_neuro, x_train_scaled, y_train_scaled, **kwargs)\u001b[0m\n\u001b[0;32m    119\u001b[0m \u001b[39mdef\u001b[39;00m \u001b[39m__init__\u001b[39m(\u001b[39mself\u001b[39m, nb_neuro, x_train_scaled, y_train_scaled, \u001b[39m*\u001b[39m\u001b[39m*\u001b[39mkwargs):\n\u001b[1;32m--> 120\u001b[0m     \u001b[39msuper\u001b[39m()\u001b[39m.\u001b[39m\u001b[39m__init__\u001b[39m(nb_neuro, x_train_scaled, y_train_scaled, \u001b[39m*\u001b[39m\u001b[39m*\u001b[39mkwargs)\n\u001b[0;32m    121\u001b[0m     \u001b[39mprint\u001b[39m()\n",
      "File \u001b[1;32mc:\\Users\\user\\rams\\projcet\\network\\net.py:38\u001b[0m, in \u001b[0;36mNetwork.__init__\u001b[1;34m(self, nb_neuro, x_train_scaled, y_train_scaled, **kwargs)\u001b[0m\n\u001b[0;32m     35\u001b[0m \u001b[39mself\u001b[39m\u001b[39m.\u001b[39msetting_device()\n\u001b[0;32m     37\u001b[0m \u001b[39m# Initialize\u001b[39;00m\n\u001b[1;32m---> 38\u001b[0m \u001b[39mself\u001b[39m\u001b[39m.\u001b[39mlinear1 \u001b[39m=\u001b[39m torch\u001b[39m.\u001b[39mnn\u001b[39m.\u001b[39mLinear(x_train_scaled\u001b[39m.\u001b[39;49mshape[\u001b[39m1\u001b[39;49m], nb_neuro)\u001b[39m.\u001b[39mto(\u001b[39mself\u001b[39m\u001b[39m.\u001b[39mdevice)\n\u001b[0;32m     39\u001b[0m \u001b[39mself\u001b[39m\u001b[39m.\u001b[39mlinear2 \u001b[39m=\u001b[39m torch\u001b[39m.\u001b[39mnn\u001b[39m.\u001b[39mLinear(nb_neuro, \u001b[39m1\u001b[39m)\u001b[39m.\u001b[39mto(\u001b[39mself\u001b[39m\u001b[39m.\u001b[39mdevice)\n\u001b[0;32m     41\u001b[0m \u001b[39m# Stop criteria - threshold\u001b[39;00m\n",
      "\u001b[1;31mIndexError\u001b[0m: tuple index out of range"
     ]
    }
   ],
   "source": [
    "from network.net import RIRO\n",
    "import numpy as np\n",
    "\n",
    "riro = RIRO(1, np.array([1,2,3]), np.array([1,2,3]))\n",
    "\n"
   ]
  },
  {
   "attachments": {},
   "cell_type": "markdown",
   "metadata": {},
   "source": [
    "### Ensemble"
   ]
  },
  {
   "cell_type": "code",
   "execution_count": 15,
   "metadata": {},
   "outputs": [
    {
     "ename": "TypeError",
     "evalue": "'>' not supported between instances of 'list' and 'int'",
     "output_type": "error",
     "traceback": [
      "\u001b[1;31m---------------------------------------------------------------------------\u001b[0m",
      "\u001b[1;31mTypeError\u001b[0m                                 Traceback (most recent call last)",
      "\u001b[1;32mc:\\Users\\user\\rams\\projcet\\inheritance.ipynb Cell 7\u001b[0m in \u001b[0;36m<cell line: 31>\u001b[1;34m()\u001b[0m\n\u001b[0;32m     <a href='vscode-notebook-cell:/c%3A/Users/user/rams/projcet/inheritance.ipynb#X11sZmlsZQ%3D%3D?line=27'>28</a>\u001b[0m ensemble_model \u001b[39m=\u001b[39m VotingRegressor(estimator\u001b[39m=\u001b[39m[model1, model2, model3], n_estimators\u001b[39m=\u001b[39m\u001b[39m3\u001b[39m)\n\u001b[0;32m     <a href='vscode-notebook-cell:/c%3A/Users/user/rams/projcet/inheritance.ipynb#X11sZmlsZQ%3D%3D?line=29'>30</a>\u001b[0m \u001b[39m# Train the ensemble model\u001b[39;00m\n\u001b[1;32m---> <a href='vscode-notebook-cell:/c%3A/Users/user/rams/projcet/inheritance.ipynb#X11sZmlsZQ%3D%3D?line=30'>31</a>\u001b[0m ensemble_model\u001b[39m.\u001b[39;49mfit(X_train, y_train)\n\u001b[0;32m     <a href='vscode-notebook-cell:/c%3A/Users/user/rams/projcet/inheritance.ipynb#X11sZmlsZQ%3D%3D?line=32'>33</a>\u001b[0m \u001b[39m# Evaluate the ensemble model\u001b[39;00m\n\u001b[0;32m     <a href='vscode-notebook-cell:/c%3A/Users/user/rams/projcet/inheritance.ipynb#X11sZmlsZQ%3D%3D?line=33'>34</a>\u001b[0m y_pred \u001b[39m=\u001b[39m ensemble_model\u001b[39m.\u001b[39mpredict(X_test)\n",
      "File \u001b[1;32mc:\\Users\\user\\anaconda3\\lib\\site-packages\\torchensemble\\voting.py:384\u001b[0m, in \u001b[0;36mVotingRegressor.fit\u001b[1;34m(self, train_loader, epochs, log_interval, test_loader, save_model, save_dir)\u001b[0m\n\u001b[0;32m    371\u001b[0m \u001b[39m@torchensemble_model_doc\u001b[39m(\n\u001b[0;32m    372\u001b[0m     \u001b[39m\"\"\"Implementation on the training stage of VotingRegressor.\"\"\"\u001b[39;00m, \u001b[39m\"\u001b[39m\u001b[39mfit\u001b[39m\u001b[39m\"\u001b[39m\n\u001b[0;32m    373\u001b[0m )\n\u001b[1;32m   (...)\u001b[0m\n\u001b[0;32m    381\u001b[0m     save_dir\u001b[39m=\u001b[39m\u001b[39mNone\u001b[39;00m,\n\u001b[0;32m    382\u001b[0m ):\n\u001b[1;32m--> 384\u001b[0m     \u001b[39mself\u001b[39;49m\u001b[39m.\u001b[39;49m_validate_parameters(epochs, log_interval)\n\u001b[0;32m    385\u001b[0m     \u001b[39mself\u001b[39m\u001b[39m.\u001b[39mn_outputs \u001b[39m=\u001b[39m \u001b[39mself\u001b[39m\u001b[39m.\u001b[39m_decide_n_outputs(train_loader)\n\u001b[0;32m    387\u001b[0m     \u001b[39m# Instantiate a pool of base estimators, optimizers, and schedulers.\u001b[39;00m\n",
      "File \u001b[1;32mc:\\Users\\user\\anaconda3\\lib\\site-packages\\torchensemble\\_base.py:125\u001b[0m, in \u001b[0;36mBaseModule._validate_parameters\u001b[1;34m(self, epochs, log_interval)\u001b[0m\n\u001b[0;32m    122\u001b[0m \u001b[39mdef\u001b[39;00m \u001b[39m_validate_parameters\u001b[39m(\u001b[39mself\u001b[39m, epochs, log_interval):\n\u001b[0;32m    123\u001b[0m     \u001b[39m\"\"\"Validate hyper-parameters on training the ensemble.\"\"\"\u001b[39;00m\n\u001b[1;32m--> 125\u001b[0m     \u001b[39mif\u001b[39;00m \u001b[39mnot\u001b[39;00m epochs \u001b[39m>\u001b[39;49m \u001b[39m0\u001b[39;49m:\n\u001b[0;32m    126\u001b[0m         msg \u001b[39m=\u001b[39m (\n\u001b[0;32m    127\u001b[0m             \u001b[39m\"\u001b[39m\u001b[39mThe number of training epochs should be strictly positive\u001b[39m\u001b[39m\"\u001b[39m\n\u001b[0;32m    128\u001b[0m             \u001b[39m\"\u001b[39m\u001b[39m, but got \u001b[39m\u001b[39m{}\u001b[39;00m\u001b[39m instead.\u001b[39m\u001b[39m\"\u001b[39m\n\u001b[0;32m    129\u001b[0m         )\n\u001b[0;32m    130\u001b[0m         \u001b[39mself\u001b[39m\u001b[39m.\u001b[39mlogger\u001b[39m.\u001b[39merror(msg\u001b[39m.\u001b[39mformat(epochs))\n",
      "\u001b[1;31mTypeError\u001b[0m: '>' not supported between instances of 'list' and 'int'"
     ]
    }
   ],
   "source": [
    "import torch\n",
    "import torch.nn as nn\n",
    "from torchensemble import VotingRegressor\n",
    "\n",
    "# Define your base models\n",
    "model1 = nn.Sequential(\n",
    "    nn.Linear(10, 5),\n",
    "    nn.ReLU(),\n",
    "    nn.Linear(5, 1)\n",
    ")\n",
    "\n",
    "model2 = nn.Sequential(\n",
    "    nn.Linear(10, 10),\n",
    "    nn.ReLU(),\n",
    "    nn.Linear(10, 1)\n",
    ")\n",
    "\n",
    "model3 = nn.Sequential(\n",
    "    nn.Linear(10, 20),\n",
    "    nn.ReLU(),\n",
    "    nn.Linear(20, 1)\n",
    ")\n",
    "\n",
    "X_train, y_train = [[1,0],[-1,2]], [2,1]\n",
    "X_test, y_test = [[1,0],[-1,2]], [2,1]\n",
    "\n",
    "# Create an instance of the VotingRegressor\n",
    "ensemble_model = VotingRegressor(estimator=[model1, model2, model3], n_estimators=3)\n",
    "\n",
    "# Train the ensemble model\n",
    "ensemble_model.fit(X_train, y_train)\n",
    "\n",
    "# Evaluate the ensemble model\n",
    "y_pred = ensemble_model.predict(X_test)\n",
    "mse = torch.nn.functional.mse_loss(y_test, y_pred)"
   ]
  },
  {
   "cell_type": "code",
   "execution_count": 11,
   "metadata": {},
   "outputs": [],
   "source": [
    "import pandas as pd\n",
    "import os\n",
    "\n",
    "dataDirectory = \"solar\"\n",
    "filelist = os.listdir(f\"./upload_data/{dataDirectory}/Train\")\n",
    "file_x, file_y = sorted(filelist) # ordered by prefix: X_, Y_\n",
    "filePath_X, filePath_Y = f\"./upload_data/{dataDirectory}/Train/{file_x}\", f\"./upload_data/{dataDirectory}/Train/{file_y}\"\n",
    "df_X, df_Y = pd.read_csv(filePath_X), pd.read_csv(filePath_Y)"
   ]
  },
  {
   "cell_type": "code",
   "execution_count": 12,
   "metadata": {},
   "outputs": [
    {
     "data": {
      "text/plain": [
       "70"
      ]
     },
     "execution_count": 12,
     "metadata": {},
     "output_type": "execute_result"
    }
   ],
   "source": [
    "len(df_X)\n"
   ]
  }
 ],
 "metadata": {
  "kernelspec": {
   "display_name": "Python 3.9.12 ('base')",
   "language": "python",
   "name": "python3"
  },
  "language_info": {
   "codemirror_mode": {
    "name": "ipython",
    "version": 3
   },
   "file_extension": ".py",
   "mimetype": "text/x-python",
   "name": "python",
   "nbconvert_exporter": "python",
   "pygments_lexer": "ipython3",
   "version": "3.9.12"
  },
  "orig_nbformat": 4,
  "vscode": {
   "interpreter": {
    "hash": "a077222d77dfe082b8f1dd562ad70e458ac2ab76993a0b248ab0476e32e9e8dd"
   }
  }
 },
 "nbformat": 4,
 "nbformat_minor": 2
}
