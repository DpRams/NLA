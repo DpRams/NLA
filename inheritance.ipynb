{
 "cells": [
  {
   "cell_type": "code",
   "execution_count": 8,
   "metadata": {},
   "outputs": [],
   "source": [
    "class Person():\n",
    "    def __init__(self, name=\"Person\"):\n",
    "        self.name = name\n",
    "\n",
    "    def saying(self):\n",
    "        print(\"saying from Person\")\n",
    "\n",
    "class Student(Person):\n",
    "    \n",
    "    def __init__(self, name=\"123465\"):\n",
    "        super().__init__(name=\"123465\")\n",
    "\n",
    "    def saying(self):\n",
    "        print(\"saying from Student\")\n",
    "\n",
    "    def farting(self):\n",
    "        print(\"farting\")\n",
    "        print(self.name)"
   ]
  },
  {
   "cell_type": "code",
   "execution_count": 9,
   "metadata": {},
   "outputs": [
    {
     "name": "stdout",
     "output_type": "stream",
     "text": [
      "saying from Person\n"
     ]
    }
   ],
   "source": [
    "Jason = Person(\"Jason\")\n",
    "Jason.saying()"
   ]
  },
  {
   "cell_type": "code",
   "execution_count": 10,
   "metadata": {},
   "outputs": [
    {
     "name": "stdout",
     "output_type": "stream",
     "text": [
      "saying from Student\n"
     ]
    }
   ],
   "source": [
    "Jason = Student(\"Kevin\")\n",
    "Jason.name\n",
    "Jason.saying()"
   ]
  },
  {
   "cell_type": "code",
   "execution_count": 25,
   "metadata": {},
   "outputs": [
    {
     "data": {
      "text/plain": [
       "1e-11"
      ]
     },
     "execution_count": 25,
     "metadata": {},
     "output_type": "execute_result"
    }
   ],
   "source": [
    "eval(\"1e-11\")"
   ]
  },
  {
   "cell_type": "code",
   "execution_count": 12,
   "metadata": {},
   "outputs": [
    {
     "ename": "IndexError",
     "evalue": "tuple index out of range",
     "output_type": "error",
     "traceback": [
      "\u001b[1;31m---------------------------------------------------------------------------\u001b[0m",
      "\u001b[1;31mIndexError\u001b[0m                                Traceback (most recent call last)",
      "\u001b[1;32mc:\\Users\\user\\rams\\projcet\\inheritance.ipynb Cell 5\u001b[0m in \u001b[0;36m<cell line: 4>\u001b[1;34m()\u001b[0m\n\u001b[0;32m      <a href='vscode-notebook-cell:/c%3A/Users/user/rams/projcet/inheritance.ipynb#W4sZmlsZQ%3D%3D?line=0'>1</a>\u001b[0m \u001b[39mfrom\u001b[39;00m \u001b[39mnetwork\u001b[39;00m\u001b[39m.\u001b[39;00m\u001b[39mnet\u001b[39;00m \u001b[39mimport\u001b[39;00m RIRO\n\u001b[0;32m      <a href='vscode-notebook-cell:/c%3A/Users/user/rams/projcet/inheritance.ipynb#W4sZmlsZQ%3D%3D?line=1'>2</a>\u001b[0m \u001b[39mimport\u001b[39;00m \u001b[39mnumpy\u001b[39;00m \u001b[39mas\u001b[39;00m \u001b[39mnp\u001b[39;00m\n\u001b[1;32m----> <a href='vscode-notebook-cell:/c%3A/Users/user/rams/projcet/inheritance.ipynb#W4sZmlsZQ%3D%3D?line=3'>4</a>\u001b[0m riro \u001b[39m=\u001b[39m RIRO(\u001b[39m1\u001b[39;49m, np\u001b[39m.\u001b[39;49marray([\u001b[39m1\u001b[39;49m,\u001b[39m2\u001b[39;49m,\u001b[39m3\u001b[39;49m]), np\u001b[39m.\u001b[39;49marray([\u001b[39m1\u001b[39;49m,\u001b[39m2\u001b[39;49m,\u001b[39m3\u001b[39;49m]))\n",
      "File \u001b[1;32mc:\\Users\\user\\rams\\projcet\\network\\net.py:120\u001b[0m, in \u001b[0;36mRIRO.__init__\u001b[1;34m(self, nb_neuro, x_train_scaled, y_train_scaled, **kwargs)\u001b[0m\n\u001b[0;32m    119\u001b[0m \u001b[39mdef\u001b[39;00m \u001b[39m__init__\u001b[39m(\u001b[39mself\u001b[39m, nb_neuro, x_train_scaled, y_train_scaled, \u001b[39m*\u001b[39m\u001b[39m*\u001b[39mkwargs):\n\u001b[1;32m--> 120\u001b[0m     \u001b[39msuper\u001b[39m()\u001b[39m.\u001b[39m\u001b[39m__init__\u001b[39m(nb_neuro, x_train_scaled, y_train_scaled, \u001b[39m*\u001b[39m\u001b[39m*\u001b[39mkwargs)\n\u001b[0;32m    121\u001b[0m     \u001b[39mprint\u001b[39m()\n",
      "File \u001b[1;32mc:\\Users\\user\\rams\\projcet\\network\\net.py:38\u001b[0m, in \u001b[0;36mNetwork.__init__\u001b[1;34m(self, nb_neuro, x_train_scaled, y_train_scaled, **kwargs)\u001b[0m\n\u001b[0;32m     35\u001b[0m \u001b[39mself\u001b[39m\u001b[39m.\u001b[39msetting_device()\n\u001b[0;32m     37\u001b[0m \u001b[39m# Initialize\u001b[39;00m\n\u001b[1;32m---> 38\u001b[0m \u001b[39mself\u001b[39m\u001b[39m.\u001b[39mlinear1 \u001b[39m=\u001b[39m torch\u001b[39m.\u001b[39mnn\u001b[39m.\u001b[39mLinear(x_train_scaled\u001b[39m.\u001b[39;49mshape[\u001b[39m1\u001b[39;49m], nb_neuro)\u001b[39m.\u001b[39mto(\u001b[39mself\u001b[39m\u001b[39m.\u001b[39mdevice)\n\u001b[0;32m     39\u001b[0m \u001b[39mself\u001b[39m\u001b[39m.\u001b[39mlinear2 \u001b[39m=\u001b[39m torch\u001b[39m.\u001b[39mnn\u001b[39m.\u001b[39mLinear(nb_neuro, \u001b[39m1\u001b[39m)\u001b[39m.\u001b[39mto(\u001b[39mself\u001b[39m\u001b[39m.\u001b[39mdevice)\n\u001b[0;32m     41\u001b[0m \u001b[39m# Stop criteria - threshold\u001b[39;00m\n",
      "\u001b[1;31mIndexError\u001b[0m: tuple index out of range"
     ]
    }
   ],
   "source": [
    "from network.net import RIRO\n",
    "import numpy as np\n",
    "\n",
    "riro = RIRO(1, np.array([1,2,3]), np.array([1,2,3]))\n",
    "\n"
   ]
  },
  {
   "attachments": {},
   "cell_type": "markdown",
   "metadata": {},
   "source": [
    "### Ensemble"
   ]
  },
  {
   "cell_type": "code",
   "execution_count": 4,
   "metadata": {},
   "outputs": [],
   "source": [
    "import torch\n",
    "import torch.nn as nn\n",
    "from torchensemble import VotingRegressor"
   ]
  },
  {
   "cell_type": "code",
   "execution_count": 5,
   "metadata": {},
   "outputs": [],
   "source": [
    "model1 = nn.Sequential(\n",
    "    nn.Linear(10, 5),\n",
    "    nn.ReLU(),\n",
    "    nn.Linear(5, 1),\n",
    "    nn.Sigmoid()\n",
    ")\n",
    "\n",
    "model2 = nn.Sequential(\n",
    "    nn.Linear(10, 10),\n",
    "    nn.ReLU(),\n",
    "    nn.Linear(10, 1),\n",
    "    nn.Sigmoid()\n",
    ")\n",
    "\n",
    "model3 = nn.Sequential(\n",
    "    nn.Linear(10, 20),\n",
    "    nn.ReLU(),\n",
    "    nn.Linear(20, 1),\n",
    "    nn.Sigmoid()\n",
    ")\n"
   ]
  },
  {
   "cell_type": "code",
   "execution_count": 3,
   "metadata": {},
   "outputs": [
    {
     "ename": "TypeError",
     "evalue": "__init__() got an unexpected keyword argument 'models'",
     "output_type": "error",
     "traceback": [
      "\u001b[1;31m---------------------------------------------------------------------------\u001b[0m",
      "\u001b[1;31mTypeError\u001b[0m                                 Traceback (most recent call last)",
      "\u001b[1;32mc:\\Users\\user\\rams\\projcet\\inheritance.ipynb Cell 9\u001b[0m in \u001b[0;36m<cell line: 1>\u001b[1;34m()\u001b[0m\n\u001b[1;32m----> <a href='vscode-notebook-cell:/c%3A/Users/user/rams/projcet/inheritance.ipynb#X11sZmlsZQ%3D%3D?line=0'>1</a>\u001b[0m ensemble_model \u001b[39m=\u001b[39m VotingClassifier(\n\u001b[0;32m      <a href='vscode-notebook-cell:/c%3A/Users/user/rams/projcet/inheritance.ipynb#X11sZmlsZQ%3D%3D?line=1'>2</a>\u001b[0m     models\u001b[39m=\u001b[39;49m[model1, model2, model3],\n\u001b[0;32m      <a href='vscode-notebook-cell:/c%3A/Users/user/rams/projcet/inheritance.ipynb#X11sZmlsZQ%3D%3D?line=2'>3</a>\u001b[0m     cuda_device\u001b[39m=\u001b[39;49m\u001b[39m0\u001b[39;49m,  \u001b[39m# Use GPU if available\u001b[39;49;00m\n\u001b[0;32m      <a href='vscode-notebook-cell:/c%3A/Users/user/rams/projcet/inheritance.ipynb#X11sZmlsZQ%3D%3D?line=3'>4</a>\u001b[0m     n_classes\u001b[39m=\u001b[39;49m\u001b[39m2\u001b[39;49m,\n\u001b[0;32m      <a href='vscode-notebook-cell:/c%3A/Users/user/rams/projcet/inheritance.ipynb#X11sZmlsZQ%3D%3D?line=4'>5</a>\u001b[0m     ensemble_size\u001b[39m=\u001b[39;49m\u001b[39m3\u001b[39;49m,\n\u001b[0;32m      <a href='vscode-notebook-cell:/c%3A/Users/user/rams/projcet/inheritance.ipynb#X11sZmlsZQ%3D%3D?line=5'>6</a>\u001b[0m     criterion\u001b[39m=\u001b[39;49mnn\u001b[39m.\u001b[39;49mBCELoss(),\n\u001b[0;32m      <a href='vscode-notebook-cell:/c%3A/Users/user/rams/projcet/inheritance.ipynb#X11sZmlsZQ%3D%3D?line=6'>7</a>\u001b[0m     optimizer\u001b[39m=\u001b[39;49mtorch\u001b[39m.\u001b[39;49moptim\u001b[39m.\u001b[39;49mAdam,\n\u001b[0;32m      <a href='vscode-notebook-cell:/c%3A/Users/user/rams/projcet/inheritance.ipynb#X11sZmlsZQ%3D%3D?line=7'>8</a>\u001b[0m     optimizer_params\u001b[39m=\u001b[39;49m{\u001b[39m\"\u001b[39;49m\u001b[39mlr\u001b[39;49m\u001b[39m\"\u001b[39;49m: \u001b[39m0.001\u001b[39;49m},\n\u001b[0;32m      <a href='vscode-notebook-cell:/c%3A/Users/user/rams/projcet/inheritance.ipynb#X11sZmlsZQ%3D%3D?line=8'>9</a>\u001b[0m     epochs\u001b[39m=\u001b[39;49m\u001b[39m10\u001b[39;49m,\n\u001b[0;32m     <a href='vscode-notebook-cell:/c%3A/Users/user/rams/projcet/inheritance.ipynb#X11sZmlsZQ%3D%3D?line=9'>10</a>\u001b[0m     batch_size\u001b[39m=\u001b[39;49m\u001b[39m32\u001b[39;49m,\n\u001b[0;32m     <a href='vscode-notebook-cell:/c%3A/Users/user/rams/projcet/inheritance.ipynb#X11sZmlsZQ%3D%3D?line=10'>11</a>\u001b[0m     validation_split\u001b[39m=\u001b[39;49m\u001b[39m0.2\u001b[39;49m\n\u001b[0;32m     <a href='vscode-notebook-cell:/c%3A/Users/user/rams/projcet/inheritance.ipynb#X11sZmlsZQ%3D%3D?line=11'>12</a>\u001b[0m )\n",
      "\u001b[1;31mTypeError\u001b[0m: __init__() got an unexpected keyword argument 'models'"
     ]
    }
   ],
   "source": [
    "# Create an instance of the VotingRegressor\n",
    "ensemble_model = VotingRegressor(estimators=[model1, model2, model3])\n",
    "\n",
    "# Train the ensemble model\n",
    "ensemble_model.fit(X_train, y_train)\n",
    "\n",
    "# Evaluate the ensemble model\n",
    "y_pred = ensemble_model.predict(X_test)\n",
    "mse = mean_squared_error(y_test, y_pred)"
   ]
  },
  {
   "cell_type": "code",
   "execution_count": 11,
   "metadata": {},
   "outputs": [],
   "source": [
    "import pandas as pd\n",
    "import os\n",
    "\n",
    "dataDirectory = \"solar\"\n",
    "filelist = os.listdir(f\"./upload_data/{dataDirectory}/Train\")\n",
    "file_x, file_y = sorted(filelist) # ordered by prefix: X_, Y_\n",
    "filePath_X, filePath_Y = f\"./upload_data/{dataDirectory}/Train/{file_x}\", f\"./upload_data/{dataDirectory}/Train/{file_y}\"\n",
    "df_X, df_Y = pd.read_csv(filePath_X), pd.read_csv(filePath_Y)"
   ]
  },
  {
   "cell_type": "code",
   "execution_count": 12,
   "metadata": {},
   "outputs": [
    {
     "data": {
      "text/plain": [
       "70"
      ]
     },
     "execution_count": 12,
     "metadata": {},
     "output_type": "execute_result"
    }
   ],
   "source": [
    "len(df_X)\n"
   ]
  }
 ],
 "metadata": {
  "kernelspec": {
   "display_name": "Python 3.9.12 ('base')",
   "language": "python",
   "name": "python3"
  },
  "language_info": {
   "codemirror_mode": {
    "name": "ipython",
    "version": 3
   },
   "file_extension": ".py",
   "mimetype": "text/x-python",
   "name": "python",
   "nbconvert_exporter": "python",
   "pygments_lexer": "ipython3",
   "version": "3.9.12"
  },
  "orig_nbformat": 4,
  "vscode": {
   "interpreter": {
    "hash": "a077222d77dfe082b8f1dd562ad70e458ac2ab76993a0b248ab0476e32e9e8dd"
   }
  }
 },
 "nbformat": 4,
 "nbformat_minor": 2
}
