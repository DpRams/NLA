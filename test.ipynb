{
 "cells": [
  {
   "cell_type": "code",
   "execution_count": 5,
   "metadata": {},
   "outputs": [
    {
     "name": "stdout",
     "output_type": "stream",
     "text": [
      "{'message': 'Successfuly uploaded acc.png'}\n"
     ]
    }
   ],
   "source": [
    "import requests\n",
    "\n",
    "url = 'http://127.0.0.1:8000/pipeline/data/upload'\n",
    "file = {'file': open(r'C:\\Users\\ZZ01GI858\\Desktop\\research\\project\\static\\img\\acc.png', 'rb')}\n",
    "resp = requests.post(url=url, files=file) \n",
    "print(resp.json())"
   ]
  },
  {
   "cell_type": "code",
   "execution_count": 32,
   "metadata": {},
   "outputs": [],
   "source": [
    "def build_net(**model_params):\n",
    "\n",
    "    class MyNet():\n",
    "        def __init__(self, **model_params):\n",
    "            \n",
    "            self.model_params = model_params\n",
    "\n",
    "        def check(self, num):\n",
    "            print(num)\n",
    "\n",
    "    # net = MyNet(**model_params)\n",
    "\n",
    "    class MyNet2(MyNet):\n",
    "        def __init__(self, **model_params):\n",
    "            super().__init__(**model_params)\n",
    "\n",
    "        def check(self, num):\n",
    "            print(num+123)\n",
    "\n",
    "\n",
    "    net = MyNet2(**model_params)\n",
    "\n",
    "    return net"
   ]
  },
  {
   "cell_type": "code",
   "execution_count": 33,
   "metadata": {},
   "outputs": [
    {
     "name": "stdout",
     "output_type": "stream",
     "text": [
      "246\n",
      "None\n",
      "{'a': 123, 'b': 456, 'c': 789}\n"
     ]
    }
   ],
   "source": [
    "net = build_net(a=123, b=456, c=789)\n",
    "print(net.check(123))\n",
    "print(net.model_params)"
   ]
  },
  {
   "cell_type": "code",
   "execution_count": 4,
   "metadata": {},
   "outputs": [
    {
     "data": {
      "text/plain": [
       "(34, 7)"
      ]
     },
     "execution_count": 4,
     "metadata": {},
     "output_type": "execute_result"
    }
   ],
   "source": [
    "import pandas as pd \n",
    "\n",
    "a = pd.read_csv(\"C:\\\\Users\\\\user\\\\rams\\\\projcet\\\\upload_data\\\\hospice\\\\X_case_104to108_34.csv\")\n",
    "a.shape"
   ]
  }
 ],
 "metadata": {
  "kernelspec": {
   "display_name": "Python 3.9.12 ('base')",
   "language": "python",
   "name": "python3"
  },
  "language_info": {
   "codemirror_mode": {
    "name": "ipython",
    "version": 3
   },
   "file_extension": ".py",
   "mimetype": "text/x-python",
   "name": "python",
   "nbconvert_exporter": "python",
   "pygments_lexer": "ipython3",
   "version": "3.9.12"
  },
  "orig_nbformat": 4,
  "vscode": {
   "interpreter": {
    "hash": "a077222d77dfe082b8f1dd562ad70e458ac2ab76993a0b248ab0476e32e9e8dd"
   }
  }
 },
 "nbformat": 4,
 "nbformat_minor": 2
}
