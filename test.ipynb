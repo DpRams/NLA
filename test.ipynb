{
 "cells": [
  {
   "cell_type": "code",
   "execution_count": 5,
   "metadata": {},
   "outputs": [
    {
     "name": "stdout",
     "output_type": "stream",
     "text": [
      "{'message': 'Successfuly uploaded acc.png'}\n"
     ]
    }
   ],
   "source": [
    "import requests\n",
    "\n",
    "url = 'http://127.0.0.1:8000/pipeline/data/upload'\n",
    "file = {'file': open(r'C:\\Users\\ZZ01GI858\\Desktop\\research\\project\\static\\img\\acc.png', 'rb')}\n",
    "resp = requests.post(url=url, files=file) \n",
    "print(resp.json())"
   ]
  }
 ],
 "metadata": {
  "kernelspec": {
   "display_name": "Python 3.9.12 ('base')",
   "language": "python",
   "name": "python3"
  },
  "language_info": {
   "codemirror_mode": {
    "name": "ipython",
    "version": 3
   },
   "file_extension": ".py",
   "mimetype": "text/x-python",
   "name": "python",
   "nbconvert_exporter": "python",
   "pygments_lexer": "ipython3",
   "version": "3.9.12"
  },
  "orig_nbformat": 4,
  "vscode": {
   "interpreter": {
    "hash": "383581dc0f4a9f95d96a98542758cece60f2b62b69bbf7d5318719dba051017d"
   }
  }
 },
 "nbformat": 4,
 "nbformat_minor": 2
}
