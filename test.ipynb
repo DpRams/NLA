{
 "cells": [
  {
   "cell_type": "code",
   "execution_count": 5,
   "metadata": {},
   "outputs": [
    {
     "name": "stdout",
     "output_type": "stream",
     "text": [
      "{'message': 'Successfuly uploaded acc.png'}\n"
     ]
    }
   ],
   "source": [
    "import requests\n",
    "\n",
    "url = 'http://127.0.0.1:8000/pipeline/data/upload'\n",
    "file = {'file': open(r'C:\\Users\\ZZ01GI858\\Desktop\\research\\project\\static\\img\\acc.png', 'rb')}\n",
    "resp = requests.post(url=url, files=file) \n",
    "print(resp.json())"
   ]
  },
  {
   "cell_type": "code",
   "execution_count": 32,
   "metadata": {},
   "outputs": [],
   "source": [
    "def build_net(**model_params):\n",
    "\n",
    "    class MyNet():\n",
    "        def __init__(self, **model_params):\n",
    "            \n",
    "            self.model_params = model_params\n",
    "\n",
    "        def check(self, num):\n",
    "            print(num)\n",
    "\n",
    "    # net = MyNet(**model_params)\n",
    "\n",
    "    class MyNet2(MyNet):\n",
    "        def __init__(self, **model_params):\n",
    "            super().__init__(**model_params)\n",
    "\n",
    "        def check(self, num):\n",
    "            print(num+123)\n",
    "\n",
    "\n",
    "    net = MyNet2(**model_params)\n",
    "\n",
    "    return net"
   ]
  },
  {
   "cell_type": "code",
   "execution_count": 33,
   "metadata": {},
   "outputs": [
    {
     "name": "stdout",
     "output_type": "stream",
     "text": [
      "246\n",
      "None\n",
      "{'a': 123, 'b': 456, 'c': 789}\n"
     ]
    }
   ],
   "source": [
    "net = build_net(a=123, b=456, c=789)\n",
    "print(net.check(123))\n",
    "print(net.model_params)"
   ]
  },
  {
   "cell_type": "code",
   "execution_count": 4,
   "metadata": {},
   "outputs": [
    {
     "data": {
      "text/plain": [
       "(34, 7)"
      ]
     },
     "execution_count": 4,
     "metadata": {},
     "output_type": "execute_result"
    }
   ],
   "source": [
    "import pandas as pd \n",
    "\n",
    "a = pd.read_csv(\"C:\\\\Users\\\\user\\\\rams\\\\projcet\\\\upload_data\\\\hospice\\\\X_case_104to108_34.csv\")\n",
    "a.shape"
   ]
  },
  {
   "cell_type": "markdown",
   "metadata": {},
   "source": [
    "[Python - 淺複製(shallow copy)與深複製(deep copy)](https://ithelp.ithome.com.tw/articles/10221255)"
   ]
  },
  {
   "cell_type": "code",
   "execution_count": 10,
   "metadata": {},
   "outputs": [
    {
     "name": "stdout",
     "output_type": "stream",
     "text": [
      "a:  [1, 2, 3, 4]\n",
      "a_ref:  [1, 2, 3, 4]\n"
     ]
    }
   ],
   "source": [
    "a = [1,2,3]\n",
    "a_ref = a\n",
    "a.append(4)\n",
    "print(\"a: \", a)\n",
    "print(\"a_ref: \", a)"
   ]
  },
  {
   "cell_type": "code",
   "execution_count": 11,
   "metadata": {},
   "outputs": [
    {
     "name": "stdout",
     "output_type": "stream",
     "text": [
      "Shallow copy\n",
      "a_list:  [1, 2, 3, 4]\n",
      "a_index:  [1, 2, 3, 4]\n",
      "a_copy:  [1, 2, 3, 4]\n"
     ]
    }
   ],
   "source": [
    "a_list = list(a)\n",
    "a_index = a[:]\n",
    "a_copy = a.copy()\n",
    "a.append(5)\n",
    "print(\"Shallow copy\")\n",
    "print(\"a_list: \", a_list)\n",
    "print(\"a_index: \", a_index)\n",
    "print(\"a_copy: \", a_copy)"
   ]
  },
  {
   "cell_type": "code",
   "execution_count": 12,
   "metadata": {},
   "outputs": [
    {
     "name": "stdout",
     "output_type": "stream",
     "text": [
      "a:             [1, [2, 3]]         id:2190286411392\n",
      "a_shallow_copy:[1, [2, 3]]         id:2190286412160\n",
      "a_deepcopy:    [1, [2, 3]]         id:2190266004864\n",
      "\n",
      "Change immutable part: a[0] = 4\n",
      "a:             [4, [2, 3]]         id:2190286411392\n",
      "a_shallow_copy:[1, [2, 3]]         id:2190286412160\n",
      "a_deepcopy:    [1, [2, 3]]         id:2190266004864\n"
     ]
    }
   ],
   "source": [
    "import copy\n",
    "a = [1, [2,3]]\n",
    "a_ref = a\n",
    "a_shallowcopy = copy.copy(a)\n",
    "a_deepcopy = copy.deepcopy(a)\n",
    "\n",
    "print(\"{:<15}{:<20}{}\".format(\"a:\", f\"{a}\", f\"id:{id(a_ref)}\"))\n",
    "print(\"{:<15}{:<20}{}\".format(\"a_shallow_copy:\", f\"{a_shallowcopy}\", f\"id:{id(a_shallowcopy)}\"))\n",
    "print(\"{:<15}{:<20}{}\".format(\"a_deepcopy:\", f\"{a_deepcopy}\", f\"id:{id(a_deepcopy)}\"))\n",
    "\n",
    "a[0] = 4\n",
    "print(\"\\nChange immutable part: a[0] = 4\")\n",
    "print(\"{:<15}{:<20}{}\".format(\"a:\", f\"{a}\", f\"id:{id(a_ref)}\"))\n",
    "print(\"{:<15}{:<20}{}\".format(\"a_shallow_copy:\", f\"{a_shallowcopy}\", f\"id:{id(a_shallowcopy)}\"))\n",
    "print(\"{:<15}{:<20}{}\".format(\"a_deepcopy:\", f\"{a_deepcopy}\", f\"id:{id(a_deepcopy)}\"))"
   ]
  },
  {
   "cell_type": "code",
   "execution_count": 13,
   "metadata": {},
   "outputs": [
    {
     "name": "stdout",
     "output_type": "stream",
     "text": [
      "\n",
      "Change mutable part: a[1][1] = 5\n",
      "a:                  [4, [2, 5]]         id:2190286411392\n",
      "a_shallow_copy:     [1, [2, 5]]         id:2190286412160\n",
      "a_deepcopy:         [1, [2, 3]]         id:2190266004864\n",
      "\n",
      "Check variable id at deep level\n",
      "a[1][1]:            5                   id:2190183983536\n",
      "a_shallowcopy[1][1]:5                   id:2190183983536\n",
      "a_deepcopy[1][1]:   3                   id:2190183983472\n"
     ]
    }
   ],
   "source": [
    "a[1][1] = 5\n",
    "print(\"\\nChange mutable part: a[1][1] = 5\")\n",
    "print(\"{:<20}{:<20}{}\".format(\"a:\", f\"{a}\", f\"id:{id(a_ref)}\"))\n",
    "print(\"{:<20}{:<20}{}\".format(\"a_shallow_copy:\", f\"{a_shallowcopy}\", f\"id:{id(a_shallowcopy)}\"))\n",
    "print(\"{:<20}{:<20}{}\".format(\"a_deepcopy:\", f\"{a_deepcopy}\", f\"id:{id(a_deepcopy)}\"))\n",
    "\n",
    "print(\"\\nCheck variable id at deep level\")\n",
    "print(\"{:<20}{:<20}{}\".format(\"a[1][1]:\", f\"{a[1][1]}\", f\"id:{id(a[1][1])}\"))\n",
    "print(\"{:<20}{:<20}{}\".format(\"a_shallowcopy[1][1]:\", f\"{a_shallowcopy[1][1]}\", f\"id:{id(a_shallowcopy[1][1])}\"))\n",
    "print(\"{:<20}{:<20}{}\".format(\"a_deepcopy[1][1]:\", f\"{a_deepcopy[1][1]}\", f\"id:{id(a_deepcopy[1][1])}\"))"
   ]
  },
  {
   "cell_type": "markdown",
   "metadata": {},
   "source": [
    "Test for multi class"
   ]
  },
  {
   "cell_type": "markdown",
   "metadata": {},
   "source": [
    "Eval，字串轉 class.function()"
   ]
  },
  {
   "cell_type": "code",
   "execution_count": 1,
   "metadata": {},
   "outputs": [],
   "source": [
    "class A():\n",
    "    def B():\n",
    "        print(123)\n",
    "\n"
   ]
  },
  {
   "cell_type": "code",
   "execution_count": 8,
   "metadata": {},
   "outputs": [
    {
     "name": "stdout",
     "output_type": "stream",
     "text": [
      "123\n"
     ]
    }
   ],
   "source": [
    "A.B()\n"
   ]
  },
  {
   "cell_type": "code",
   "execution_count": 9,
   "metadata": {},
   "outputs": [
    {
     "name": "stdout",
     "output_type": "stream",
     "text": [
      "123\n"
     ]
    }
   ],
   "source": [
    "fn = \"A.B\"\n",
    "eval(fn)()"
   ]
  },
  {
   "cell_type": "code",
   "execution_count": 1,
   "metadata": {},
   "outputs": [],
   "source": [
    "# git add/commit/push automatically\n",
    "from subprocess import Popen\n",
    "p = Popen(\"autoPush.bat\", cwd=r\"C:\\Users\\user\\rams\\projcet\")\n",
    "stdout, stderr = p.communicate()"
   ]
  },
  {
   "cell_type": "code",
   "execution_count": 3,
   "metadata": {},
   "outputs": [
    {
     "ename": "ModuleNotFoundError",
     "evalue": "No module named 'numpy'",
     "output_type": "error",
     "traceback": [
      "\u001b[1;31m---------------------------------------------------------------------------\u001b[0m",
      "\u001b[1;31mModuleNotFoundError\u001b[0m                       Traceback (most recent call last)",
      "\u001b[1;32mc:\\Users\\user\\rams\\projcet\\test.ipynb Cell 16\u001b[0m in \u001b[0;36m<cell line: 1>\u001b[1;34m()\u001b[0m\n\u001b[1;32m----> <a href='vscode-notebook-cell:/c%3A/Users/user/rams/projcet/test.ipynb#X21sZmlsZQ%3D%3D?line=0'>1</a>\u001b[0m \u001b[39mimport\u001b[39;00m \u001b[39mnumpy\u001b[39;00m \u001b[39mas\u001b[39;00m \u001b[39mnp\u001b[39;00m\n\u001b[0;32m      <a href='vscode-notebook-cell:/c%3A/Users/user/rams/projcet/test.ipynb#X21sZmlsZQ%3D%3D?line=1'>2</a>\u001b[0m [\u001b[39m1\u001b[39m,\u001b[39m2\u001b[39m,\u001b[39m3\u001b[39m]\n\u001b[0;32m      <a href='vscode-notebook-cell:/c%3A/Users/user/rams/projcet/test.ipynb#X21sZmlsZQ%3D%3D?line=2'>3</a>\u001b[0m np\u001b[39m.\u001b[39mmean([\u001b[39m1\u001b[39m,\u001b[39m2\u001b[39m,\u001b[39m3\u001b[39m])\n",
      "\u001b[1;31mModuleNotFoundError\u001b[0m: No module named 'numpy'"
     ]
    }
   ],
   "source": [
    "import numpy as np\n",
    "[1,2,3]\n",
    "np.mean([1,2,3])"
   ]
  },
  {
   "cell_type": "code",
   "execution_count": 53,
   "metadata": {},
   "outputs": [
    {
     "name": "stdout",
     "output_type": "stream",
     "text": [
      "1    hospice_custoNet_ASLFN_0.1_1.0_221022_182139.pkl\n",
      "Name: modelName, dtype: string\n"
     ]
    }
   ],
   "source": [
    "import pandas as pd \n",
    "# df = pd.read_csv(\"model_deploying\\\\testing.csv\")\n",
    "deployRecord = pd.read_csv(f'model_deploying\\\\deployment.csv')\n",
    "(deployRecord[\"containerID\"] == \"deploying\")\n",
    "deployRecord.where((deployRecord[\"deployStatus\"] == \"revoking\"))[\"modelName\"]\n",
    "modelPklFile = \"hospice_custoNet_ASLFN_0.1_1.0_221022_182139.pkl\"\n",
    "dataDirectory = deployRecord.where((deployRecord[\"modelName\"] == modelPklFile))\n",
    "dataDirectory_id = deployRecord.index[(deployRecord[\"modelName\"] == modelPklFile)]\n",
    "a = str(dataDirectory.loc[dataDirectory_id, \"modelName\"])\n",
    "print(dataDirectory.iloc[dataDirectory_id, 1].astype(\"string\"))\n",
    "# dataDirectory[dataDirectory['trainedDataset'].isnull()]\n",
    "# print(dataDirectory)"
   ]
  },
  {
   "cell_type": "code",
   "execution_count": 57,
   "metadata": {},
   "outputs": [
    {
     "data": {
      "text/plain": [
       "Int64Index([0, 1, 2, 3], dtype='int64')"
      ]
     },
     "execution_count": 57,
     "metadata": {},
     "output_type": "execute_result"
    }
   ],
   "source": [
    "import pandas as pd \n",
    "deployRecord = pd.read_csv(f'model_deploying\\\\deployment.csv')\n",
    "predictAPI = deployRecord.where((deployRecord[\"deployStatus\"] == \"revoking\"))[\"modelName\"]\n",
    "# modelPklFile = \"hospice_custoNet_ASLFN_0.1_1.0_221022_182139.pkl\"\n",
    "id = deployRecord.index[(deployRecord[\"modelName\"] == modelPklFile)]\n",
    "deployRecord.loc[id, \"modelName\"].item()\n"
   ]
  },
  {
   "cell_type": "code",
   "execution_count": 52,
   "metadata": {},
   "outputs": [
    {
     "data": {
      "text/plain": [
       "['solar_custoNet_SLFN_0.6_0.729_221022_182027.pkl',\n",
       " 'hospice_custoNet_ASLFN_0.1_1.0_221022_182139.pkl',\n",
       " 'solar_custoNet_SLFN_0.6_0.887_221024_150202.pkl',\n",
       " 'hospice_custoNet_ASLFN_0.6_1.0_221024_150236.pkl']"
      ]
     },
     "execution_count": 52,
     "metadata": {},
     "output_type": "execute_result"
    }
   ],
   "source": [
    "predictAPI = deployRecord.where((deployRecord[\"deployStatus\"] == \"revoking\"))[\"modelName\"]\n",
    "predictAPI.to_list()"
   ]
  },
  {
   "cell_type": "code",
   "execution_count": 65,
   "metadata": {},
   "outputs": [
    {
     "data": {
      "text/plain": [
       "'hospice'"
      ]
     },
     "execution_count": 65,
     "metadata": {},
     "output_type": "execute_result"
    }
   ],
   "source": [
    "predictAPI = \"hospice_custoNet_ASLFN_0.1_1.0_221022_182139.pkl\"\n",
    "modelId = deployRecord.index[(deployRecord[\"modelName\"] == predictAPI)]\n",
    "dataDirectory = deployRecord.loc[modelId, \"trainedDataset\"].item()\n",
    "dataDirectory"
   ]
  },
  {
   "cell_type": "code",
   "execution_count": 68,
   "metadata": {},
   "outputs": [
    {
     "data": {
      "text/plain": [
       "['solar_custoNet_SLFN_0.6_0.729_221022_182027.pkl', nan, nan, nan]"
      ]
     },
     "execution_count": 68,
     "metadata": {},
     "output_type": "execute_result"
    }
   ],
   "source": [
    "import pandas as pd \n",
    "deployRecord = pd.read_csv(f'model_deploying\\\\deployment.csv')\n",
    "predictAPI = deployRecord.where((deployRecord[\"deployStatus\"] == \"deploying\"))[\"modelName\"].to_list()\n",
    "predictAPI"
   ]
  },
  {
   "cell_type": "code",
   "execution_count": 87,
   "metadata": {},
   "outputs": [
    {
     "data": {
      "text/plain": [
       "['solar_custoNet_SLFN_0.6_0.729_221022_182027.pkl']"
      ]
     },
     "execution_count": 87,
     "metadata": {},
     "output_type": "execute_result"
    }
   ],
   "source": [
    "import pandas as pd \n",
    "deployRecord = pd.read_csv(f'model_deploying\\\\deployment.csv')\n",
    "predictAPI = deployRecord.index[(deployRecord[\"deployStatus\"] == \"deploying\")]\n",
    "predictAPI\n",
    "a = [modelName for (i, modelName) in deployRecord.loc[predictAPI, \"modelName\"].items()] \n",
    "\n",
    "a"
   ]
  },
  {
   "cell_type": "code",
   "execution_count": 14,
   "metadata": {},
   "outputs": [
    {
     "data": {
      "text/plain": [
       "'c:\\\\Users\\\\user\\\\rams\\\\projcet'"
      ]
     },
     "execution_count": 14,
     "metadata": {},
     "output_type": "execute_result"
    }
   ],
   "source": [
    "%pwd"
   ]
  },
  {
   "cell_type": "code",
   "execution_count": 6,
   "metadata": {},
   "outputs": [
    {
     "name": "stdout",
     "output_type": "stream",
     "text": [
      "CPU times: total: 0 ns\n",
      "Wall time: 0 ns\n"
     ]
    }
   ],
   "source": [
    "%%time\n",
    "import requests"
   ]
  },
  {
   "cell_type": "code",
   "execution_count": 1,
   "metadata": {},
   "outputs": [
    {
     "ename": "ValueError",
     "evalue": "probabilities do not sum to 1",
     "output_type": "error",
     "traceback": [
      "\u001b[1;31m---------------------------------------------------------------------------\u001b[0m",
      "\u001b[1;31mValueError\u001b[0m                                Traceback (most recent call last)",
      "\u001b[1;32mc:\\Users\\user\\rams\\projcet\\test.ipynb Cell 25\u001b[0m in \u001b[0;36m<cell line: 16>\u001b[1;34m()\u001b[0m\n\u001b[0;32m     <a href='vscode-notebook-cell:/c%3A/Users/user/rams/projcet/test.ipynb#X33sZmlsZQ%3D%3D?line=24'>25</a>\u001b[0m fair_die2 \u001b[39m=\u001b[39m np\u001b[39m.\u001b[39mrandom\u001b[39m.\u001b[39mrandint(\u001b[39m1\u001b[39m, \u001b[39m7\u001b[39m)\n\u001b[0;32m     <a href='vscode-notebook-cell:/c%3A/Users/user/rams/projcet/test.ipynb#X33sZmlsZQ%3D%3D?line=26'>27</a>\u001b[0m \u001b[39m# Roll the unfair die\u001b[39;00m\n\u001b[1;32m---> <a href='vscode-notebook-cell:/c%3A/Users/user/rams/projcet/test.ipynb#X33sZmlsZQ%3D%3D?line=27'>28</a>\u001b[0m unfair_die \u001b[39m=\u001b[39m np\u001b[39m.\u001b[39;49mrandom\u001b[39m.\u001b[39;49mchoice([\u001b[39m1\u001b[39;49m, \u001b[39m2\u001b[39;49m, \u001b[39m3\u001b[39;49m, \u001b[39m4\u001b[39;49m, \u001b[39m5\u001b[39;49m, \u001b[39m6\u001b[39;49m], p\u001b[39m=\u001b[39;49munfair_die_probs)\n\u001b[0;32m     <a href='vscode-notebook-cell:/c%3A/Users/user/rams/projcet/test.ipynb#X33sZmlsZQ%3D%3D?line=29'>30</a>\u001b[0m \u001b[39m# Compute the minimum value rolled\u001b[39;00m\n\u001b[0;32m     <a href='vscode-notebook-cell:/c%3A/Users/user/rams/projcet/test.ipynb#X33sZmlsZQ%3D%3D?line=30'>31</a>\u001b[0m min_value_rolled \u001b[39m=\u001b[39m \u001b[39mmin\u001b[39m(fair_die1, fair_die2, unfair_die)\n",
      "File \u001b[1;32mmtrand.pyx:939\u001b[0m, in \u001b[0;36mnumpy.random.mtrand.RandomState.choice\u001b[1;34m()\u001b[0m\n",
      "\u001b[1;31mValueError\u001b[0m: probabilities do not sum to 1"
     ]
    }
   ],
   "source": [
    "import numpy as np\n",
    "\n",
    "# Set the number of simulations to run\n",
    "num_sims = 10000\n",
    "\n",
    "# Set the probabilities for the unfair die\n",
    "unfair_die_probs = [0.25, 0.20, 0.20, 0.20, 0.10, 0.05]\n",
    "\n",
    "# Set the number of rolls to simulate for each die\n",
    "num_rolls = 10\n",
    "\n",
    "# Initialize an array to store the results of each simulation\n",
    "results = np.zeros(num_sims)\n",
    "\n",
    "# Loop over the number of simulations\n",
    "for sim in range(num_sims):\n",
    "    # Initialize variables to store the minimum value and the number of rolls needed to reach that value\n",
    "    min_value = 7\n",
    "    num_rolls_to_min = 0\n",
    "\n",
    "    # Loop over the number of rolls for each die\n",
    "    for roll in range(num_rolls):\n",
    "        # Roll the two fair dice\n",
    "        fair_die1 = np.random.randint(1, 7)\n",
    "        fair_die2 = np.random.randint(1, 7)\n",
    "\n",
    "        # Roll the unfair die\n",
    "        unfair_die = np.random.choice([1, 2, 3, 4, 5, 6], p=unfair_die_probs)\n",
    "\n",
    "        # Compute the minimum value rolled\n",
    "        min_value_rolled = min(fair_die1, fair_die2, unfair_die)\n",
    "\n",
    "        # If the minimum value rolled is less than the current minimum value, update the minimum value and the number of rolls needed to reach that value\n",
    "        if min_value_rolled < min_value:\n",
    "            min_value = min_value_rolled\n",
    "            num_rolls_to_min = roll + 1\n",
    "\n",
    "    # Store the number of rolls needed to reach the minimum value for this simulation\n",
    "    results[sim] = num_rolls_to_min\n",
    "\n",
    "# Compute the average number of rolls needed to reach the minimum value\n",
    "avg_num_rolls_to_min = np.mean(results)\n",
    "\n",
    "print(f\"The expected value of the smallest number of rolling the three dice is {avg_num_rolls_to_min:.2f}.\")"
   ]
  }
 ],
 "metadata": {
  "kernelspec": {
   "display_name": "Python 3.9.12 ('base')",
   "language": "python",
   "name": "python3"
  },
  "language_info": {
   "codemirror_mode": {
    "name": "ipython",
    "version": 3
   },
   "file_extension": ".py",
   "mimetype": "text/x-python",
   "name": "python",
   "nbconvert_exporter": "python",
   "pygments_lexer": "ipython3",
   "version": "3.9.12"
  },
  "orig_nbformat": 4,
  "vscode": {
   "interpreter": {
    "hash": "a077222d77dfe082b8f1dd562ad70e458ac2ab76993a0b248ab0476e32e9e8dd"
   }
  }
 },
 "nbformat": 4,
 "nbformat_minor": 2
}
