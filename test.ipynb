{
 "cells": [
  {
   "cell_type": "code",
   "execution_count": 5,
   "metadata": {},
   "outputs": [
    {
     "name": "stdout",
     "output_type": "stream",
     "text": [
      "{'message': 'Successfuly uploaded acc.png'}\n"
     ]
    }
   ],
   "source": [
    "import requests\n",
    "\n",
    "url = 'http://127.0.0.1:8000/pipeline/data/upload'\n",
    "file = {'file': open(r'C:\\Users\\ZZ01GI858\\Desktop\\research\\project\\static\\img\\acc.png', 'rb')}\n",
    "resp = requests.post(url=url, files=file) \n",
    "print(resp.json())"
   ]
  },
  {
   "cell_type": "code",
   "execution_count": 32,
   "metadata": {},
   "outputs": [],
   "source": [
    "def build_net(**model_params):\n",
    "\n",
    "    class MyNet():\n",
    "        def __init__(self, **model_params):\n",
    "            \n",
    "            self.model_params = model_params\n",
    "\n",
    "        def check(self, num):\n",
    "            print(num)\n",
    "\n",
    "    # net = MyNet(**model_params)\n",
    "\n",
    "    class MyNet2(MyNet):\n",
    "        def __init__(self, **model_params):\n",
    "            super().__init__(**model_params)\n",
    "\n",
    "        def check(self, num):\n",
    "            print(num+123)\n",
    "\n",
    "\n",
    "    net = MyNet2(**model_params)\n",
    "\n",
    "    return net"
   ]
  },
  {
   "cell_type": "code",
   "execution_count": 33,
   "metadata": {},
   "outputs": [
    {
     "name": "stdout",
     "output_type": "stream",
     "text": [
      "246\n",
      "None\n",
      "{'a': 123, 'b': 456, 'c': 789}\n"
     ]
    }
   ],
   "source": [
    "net = build_net(a=123, b=456, c=789)\n",
    "print(net.check(123))\n",
    "print(net.model_params)"
   ]
  },
  {
   "cell_type": "code",
   "execution_count": 4,
   "metadata": {},
   "outputs": [
    {
     "data": {
      "text/plain": [
       "(34, 7)"
      ]
     },
     "execution_count": 4,
     "metadata": {},
     "output_type": "execute_result"
    }
   ],
   "source": [
    "import pandas as pd \n",
    "\n",
    "a = pd.read_csv(\"C:\\\\Users\\\\user\\\\rams\\\\projcet\\\\upload_data\\\\hospice\\\\X_case_104to108_34.csv\")\n",
    "a.shape"
   ]
  },
  {
   "cell_type": "markdown",
   "metadata": {},
   "source": [
    "[Python - 淺複製(shallow copy)與深複製(deep copy)](https://ithelp.ithome.com.tw/articles/10221255)"
   ]
  },
  {
   "cell_type": "code",
   "execution_count": 10,
   "metadata": {},
   "outputs": [
    {
     "name": "stdout",
     "output_type": "stream",
     "text": [
      "a:  [1, 2, 3, 4]\n",
      "a_ref:  [1, 2, 3, 4]\n"
     ]
    }
   ],
   "source": [
    "a = [1,2,3]\n",
    "a_ref = a\n",
    "a.append(4)\n",
    "print(\"a: \", a)\n",
    "print(\"a_ref: \", a)"
   ]
  },
  {
   "cell_type": "code",
   "execution_count": 11,
   "metadata": {},
   "outputs": [
    {
     "name": "stdout",
     "output_type": "stream",
     "text": [
      "Shallow copy\n",
      "a_list:  [1, 2, 3, 4]\n",
      "a_index:  [1, 2, 3, 4]\n",
      "a_copy:  [1, 2, 3, 4]\n"
     ]
    }
   ],
   "source": [
    "a_list = list(a)\n",
    "a_index = a[:]\n",
    "a_copy = a.copy()\n",
    "a.append(5)\n",
    "print(\"Shallow copy\")\n",
    "print(\"a_list: \", a_list)\n",
    "print(\"a_index: \", a_index)\n",
    "print(\"a_copy: \", a_copy)"
   ]
  },
  {
   "cell_type": "code",
   "execution_count": 12,
   "metadata": {},
   "outputs": [
    {
     "name": "stdout",
     "output_type": "stream",
     "text": [
      "a:             [1, [2, 3]]         id:2190286411392\n",
      "a_shallow_copy:[1, [2, 3]]         id:2190286412160\n",
      "a_deepcopy:    [1, [2, 3]]         id:2190266004864\n",
      "\n",
      "Change immutable part: a[0] = 4\n",
      "a:             [4, [2, 3]]         id:2190286411392\n",
      "a_shallow_copy:[1, [2, 3]]         id:2190286412160\n",
      "a_deepcopy:    [1, [2, 3]]         id:2190266004864\n"
     ]
    }
   ],
   "source": [
    "import copy\n",
    "a = [1, [2,3]]\n",
    "a_ref = a\n",
    "a_shallowcopy = copy.copy(a)\n",
    "a_deepcopy = copy.deepcopy(a)\n",
    "\n",
    "print(\"{:<15}{:<20}{}\".format(\"a:\", f\"{a}\", f\"id:{id(a_ref)}\"))\n",
    "print(\"{:<15}{:<20}{}\".format(\"a_shallow_copy:\", f\"{a_shallowcopy}\", f\"id:{id(a_shallowcopy)}\"))\n",
    "print(\"{:<15}{:<20}{}\".format(\"a_deepcopy:\", f\"{a_deepcopy}\", f\"id:{id(a_deepcopy)}\"))\n",
    "\n",
    "a[0] = 4\n",
    "print(\"\\nChange immutable part: a[0] = 4\")\n",
    "print(\"{:<15}{:<20}{}\".format(\"a:\", f\"{a}\", f\"id:{id(a_ref)}\"))\n",
    "print(\"{:<15}{:<20}{}\".format(\"a_shallow_copy:\", f\"{a_shallowcopy}\", f\"id:{id(a_shallowcopy)}\"))\n",
    "print(\"{:<15}{:<20}{}\".format(\"a_deepcopy:\", f\"{a_deepcopy}\", f\"id:{id(a_deepcopy)}\"))"
   ]
  },
  {
   "cell_type": "code",
   "execution_count": 13,
   "metadata": {},
   "outputs": [
    {
     "name": "stdout",
     "output_type": "stream",
     "text": [
      "\n",
      "Change mutable part: a[1][1] = 5\n",
      "a:                  [4, [2, 5]]         id:2190286411392\n",
      "a_shallow_copy:     [1, [2, 5]]         id:2190286412160\n",
      "a_deepcopy:         [1, [2, 3]]         id:2190266004864\n",
      "\n",
      "Check variable id at deep level\n",
      "a[1][1]:            5                   id:2190183983536\n",
      "a_shallowcopy[1][1]:5                   id:2190183983536\n",
      "a_deepcopy[1][1]:   3                   id:2190183983472\n"
     ]
    }
   ],
   "source": [
    "a[1][1] = 5\n",
    "print(\"\\nChange mutable part: a[1][1] = 5\")\n",
    "print(\"{:<20}{:<20}{}\".format(\"a:\", f\"{a}\", f\"id:{id(a_ref)}\"))\n",
    "print(\"{:<20}{:<20}{}\".format(\"a_shallow_copy:\", f\"{a_shallowcopy}\", f\"id:{id(a_shallowcopy)}\"))\n",
    "print(\"{:<20}{:<20}{}\".format(\"a_deepcopy:\", f\"{a_deepcopy}\", f\"id:{id(a_deepcopy)}\"))\n",
    "\n",
    "print(\"\\nCheck variable id at deep level\")\n",
    "print(\"{:<20}{:<20}{}\".format(\"a[1][1]:\", f\"{a[1][1]}\", f\"id:{id(a[1][1])}\"))\n",
    "print(\"{:<20}{:<20}{}\".format(\"a_shallowcopy[1][1]:\", f\"{a_shallowcopy[1][1]}\", f\"id:{id(a_shallowcopy[1][1])}\"))\n",
    "print(\"{:<20}{:<20}{}\".format(\"a_deepcopy[1][1]:\", f\"{a_deepcopy[1][1]}\", f\"id:{id(a_deepcopy[1][1])}\"))"
   ]
  },
  {
   "cell_type": "markdown",
   "metadata": {},
   "source": [
    "Test for multi class"
   ]
  },
  {
   "cell_type": "markdown",
   "metadata": {},
   "source": [
    "Eval，字串轉 class.function()"
   ]
  },
  {
   "cell_type": "code",
   "execution_count": 1,
   "metadata": {},
   "outputs": [],
   "source": [
    "class A():\n",
    "    def B():\n",
    "        print(123)\n",
    "\n"
   ]
  },
  {
   "cell_type": "code",
   "execution_count": 8,
   "metadata": {},
   "outputs": [
    {
     "name": "stdout",
     "output_type": "stream",
     "text": [
      "123\n"
     ]
    }
   ],
   "source": [
    "A.B()\n"
   ]
  },
  {
   "cell_type": "code",
   "execution_count": 9,
   "metadata": {},
   "outputs": [
    {
     "name": "stdout",
     "output_type": "stream",
     "text": [
      "123\n"
     ]
    }
   ],
   "source": [
    "fn = \"A.B\"\n",
    "eval(fn)()"
   ]
  },
  {
   "cell_type": "code",
   "execution_count": 1,
   "metadata": {},
   "outputs": [],
   "source": [
    "# git add/commit/push automatically\n",
    "from subprocess import Popen\n",
    "p = Popen(\"autoPush.bat\", cwd=r\"C:\\Users\\user\\rams\\projcet\")\n",
    "stdout, stderr = p.communicate()"
   ]
  },
  {
   "cell_type": "code",
   "execution_count": 3,
   "metadata": {},
   "outputs": [
    {
     "ename": "ModuleNotFoundError",
     "evalue": "No module named 'numpy'",
     "output_type": "error",
     "traceback": [
      "\u001b[1;31m---------------------------------------------------------------------------\u001b[0m",
      "\u001b[1;31mModuleNotFoundError\u001b[0m                       Traceback (most recent call last)",
      "\u001b[1;32mc:\\Users\\user\\rams\\projcet\\test.ipynb Cell 16\u001b[0m in \u001b[0;36m<cell line: 1>\u001b[1;34m()\u001b[0m\n\u001b[1;32m----> <a href='vscode-notebook-cell:/c%3A/Users/user/rams/projcet/test.ipynb#X21sZmlsZQ%3D%3D?line=0'>1</a>\u001b[0m \u001b[39mimport\u001b[39;00m \u001b[39mnumpy\u001b[39;00m \u001b[39mas\u001b[39;00m \u001b[39mnp\u001b[39;00m\n\u001b[0;32m      <a href='vscode-notebook-cell:/c%3A/Users/user/rams/projcet/test.ipynb#X21sZmlsZQ%3D%3D?line=1'>2</a>\u001b[0m [\u001b[39m1\u001b[39m,\u001b[39m2\u001b[39m,\u001b[39m3\u001b[39m]\n\u001b[0;32m      <a href='vscode-notebook-cell:/c%3A/Users/user/rams/projcet/test.ipynb#X21sZmlsZQ%3D%3D?line=2'>3</a>\u001b[0m np\u001b[39m.\u001b[39mmean([\u001b[39m1\u001b[39m,\u001b[39m2\u001b[39m,\u001b[39m3\u001b[39m])\n",
      "\u001b[1;31mModuleNotFoundError\u001b[0m: No module named 'numpy'"
     ]
    }
   ],
   "source": [
    "import numpy as np\n",
    "[1,2,3]\n",
    "np.mean([1,2,3])"
   ]
  },
  {
   "cell_type": "code",
   "execution_count": 53,
   "metadata": {},
   "outputs": [
    {
     "name": "stdout",
     "output_type": "stream",
     "text": [
      "1    hospice_custoNet_ASLFN_0.1_1.0_221022_182139.pkl\n",
      "Name: modelName, dtype: string\n"
     ]
    }
   ],
   "source": [
    "import pandas as pd \n",
    "# df = pd.read_csv(\"model_deploying\\\\testing.csv\")\n",
    "deployRecord = pd.read_csv(f'model_deploying\\\\deployment.csv')\n",
    "(deployRecord[\"containerID\"] == \"deploying\")\n",
    "deployRecord.where((deployRecord[\"deployStatus\"] == \"revoking\"))[\"modelName\"]\n",
    "modelPklFile = \"hospice_custoNet_ASLFN_0.1_1.0_221022_182139.pkl\"\n",
    "dataDirectory = deployRecord.where((deployRecord[\"modelName\"] == modelPklFile))\n",
    "dataDirectory_id = deployRecord.index[(deployRecord[\"modelName\"] == modelPklFile)]\n",
    "a = str(dataDirectory.loc[dataDirectory_id, \"modelName\"])\n",
    "print(dataDirectory.iloc[dataDirectory_id, 1].astype(\"string\"))\n",
    "# dataDirectory[dataDirectory['trainedDataset'].isnull()]\n",
    "# print(dataDirectory)"
   ]
  },
  {
   "cell_type": "code",
   "execution_count": 57,
   "metadata": {},
   "outputs": [
    {
     "data": {
      "text/plain": [
       "Int64Index([0, 1, 2, 3], dtype='int64')"
      ]
     },
     "execution_count": 57,
     "metadata": {},
     "output_type": "execute_result"
    }
   ],
   "source": [
    "import pandas as pd \n",
    "deployRecord = pd.read_csv(f'model_deploying\\\\deployment.csv')\n",
    "predictAPI = deployRecord.where((deployRecord[\"deployStatus\"] == \"revoking\"))[\"modelName\"]\n",
    "# modelPklFile = \"hospice_custoNet_ASLFN_0.1_1.0_221022_182139.pkl\"\n",
    "id = deployRecord.index[(deployRecord[\"modelName\"] == modelPklFile)]\n",
    "deployRecord.loc[id, \"modelName\"].item()\n"
   ]
  },
  {
   "cell_type": "code",
   "execution_count": 52,
   "metadata": {},
   "outputs": [
    {
     "data": {
      "text/plain": [
       "['solar_custoNet_SLFN_0.6_0.729_221022_182027.pkl',\n",
       " 'hospice_custoNet_ASLFN_0.1_1.0_221022_182139.pkl',\n",
       " 'solar_custoNet_SLFN_0.6_0.887_221024_150202.pkl',\n",
       " 'hospice_custoNet_ASLFN_0.6_1.0_221024_150236.pkl']"
      ]
     },
     "execution_count": 52,
     "metadata": {},
     "output_type": "execute_result"
    }
   ],
   "source": [
    "predictAPI = deployRecord.where((deployRecord[\"deployStatus\"] == \"revoking\"))[\"modelName\"]\n",
    "predictAPI.to_list()"
   ]
  },
  {
   "cell_type": "code",
   "execution_count": 65,
   "metadata": {},
   "outputs": [
    {
     "data": {
      "text/plain": [
       "'hospice'"
      ]
     },
     "execution_count": 65,
     "metadata": {},
     "output_type": "execute_result"
    }
   ],
   "source": [
    "predictAPI = \"hospice_custoNet_ASLFN_0.1_1.0_221022_182139.pkl\"\n",
    "modelId = deployRecord.index[(deployRecord[\"modelName\"] == predictAPI)]\n",
    "dataDirectory = deployRecord.loc[modelId, \"trainedDataset\"].item()\n",
    "dataDirectory"
   ]
  },
  {
   "cell_type": "code",
   "execution_count": 68,
   "metadata": {},
   "outputs": [
    {
     "data": {
      "text/plain": [
       "['solar_custoNet_SLFN_0.6_0.729_221022_182027.pkl', nan, nan, nan]"
      ]
     },
     "execution_count": 68,
     "metadata": {},
     "output_type": "execute_result"
    }
   ],
   "source": [
    "import pandas as pd \n",
    "deployRecord = pd.read_csv(f'model_deploying\\\\deployment.csv')\n",
    "predictAPI = deployRecord.where((deployRecord[\"deployStatus\"] == \"deploying\"))[\"modelName\"].to_list()\n",
    "predictAPI"
   ]
  },
  {
   "cell_type": "code",
   "execution_count": 87,
   "metadata": {},
   "outputs": [
    {
     "data": {
      "text/plain": [
       "['solar_custoNet_SLFN_0.6_0.729_221022_182027.pkl']"
      ]
     },
     "execution_count": 87,
     "metadata": {},
     "output_type": "execute_result"
    }
   ],
   "source": [
    "import pandas as pd \n",
    "deployRecord = pd.read_csv(f'model_deploying\\\\deployment.csv')\n",
    "predictAPI = deployRecord.index[(deployRecord[\"deployStatus\"] == \"deploying\")]\n",
    "predictAPI\n",
    "a = [modelName for (i, modelName) in deployRecord.loc[predictAPI, \"modelName\"].items()] \n",
    "\n",
    "a"
   ]
  },
  {
   "cell_type": "code",
   "execution_count": 14,
   "metadata": {},
   "outputs": [
    {
     "data": {
      "text/plain": [
       "'c:\\\\Users\\\\user\\\\rams\\\\projcet'"
      ]
     },
     "execution_count": 14,
     "metadata": {},
     "output_type": "execute_result"
    }
   ],
   "source": [
    "%pwd"
   ]
  },
  {
   "cell_type": "code",
   "execution_count": 6,
   "metadata": {},
   "outputs": [
    {
     "name": "stdout",
     "output_type": "stream",
     "text": [
      "CPU times: total: 0 ns\n",
      "Wall time: 0 ns\n"
     ]
    }
   ],
   "source": [
    "%%time\n",
    "import requests"
   ]
  },
  {
   "cell_type": "code",
   "execution_count": 2,
   "metadata": {},
   "outputs": [
    {
     "name": "stdout",
     "output_type": "stream",
     "text": [
      "c:\\Users\\user\\rams\\projcet\\apps\n"
     ]
    }
   ],
   "source": [
    "%cd apps"
   ]
  },
  {
   "cell_type": "code",
   "execution_count": 4,
   "metadata": {},
   "outputs": [],
   "source": [
    "from fastapi import FastAPI, Request, Form\n",
    "from sklearn.preprocessing import StandardScaler\n",
    "from pathlib import Path\n",
    "\n",
    "from network.net import Network\n",
    "from modelParameter import ModelParameter\n",
    "\n",
    "import uvicorn\n",
    "import numpy as np\n",
    "import torch \n",
    "import pickle\n",
    "import os\n",
    "import pandas as pd\n",
    "import sys\n",
    "import time\n"
   ]
  },
  {
   "cell_type": "code",
   "execution_count": 6,
   "metadata": {},
   "outputs": [],
   "source": [
    "p = Path(\".\").glob('**/*')\n",
    "modelPklFile = \"../ASLFN/docker_apps/solar_ASLFN_0.6_0.929_221219_151517.pt\"\n",
    "# network = torch.load(modelPklFile)\n",
    "network = torch.load(modelPklFile, map_location=torch.device(\"cpu\"))"
   ]
  },
  {
   "cell_type": "code",
   "execution_count": null,
   "metadata": {},
   "outputs": [],
   "source": []
  },
  {
   "cell_type": "code",
   "execution_count": 71,
   "metadata": {},
   "outputs": [
    {
     "data": {
      "text/plain": [
       "{'dataDirectory': 'solar',\n",
       " 'dataDescribing': 'ri_sro',\n",
       " 'dataShape': {'X': (70, 12), 'Y': (70, 1)},\n",
       " 'modelFile': 'ASLFN.py',\n",
       " 'inputDimension': 12,\n",
       " 'hiddenNode': 10,\n",
       " 'outputDimension': 1,\n",
       " 'weightInitialization': 'xavierNormal',\n",
       " 'activationFunction': 'ReLU',\n",
       " 'lossFunction': 'RMSE',\n",
       " 'optimizer': 'Adam',\n",
       " 'learningRate': 0.0007704439939703728,\n",
       " 'betas': (0.9, 0.999),\n",
       " 'eps': 1e-08,\n",
       " 'weightDecay': 0.01,\n",
       " 'initializingRule': 'LinearRegression',\n",
       " 'initializingNumber': 10,\n",
       " 'learningGoal': 0.6,\n",
       " 'selectingRule': 'LTS',\n",
       " 'matchingRule': 'EU_LG_UA',\n",
       " 'matchingTimes': 10,\n",
       " 'matchingLearningGoal': 0.6,\n",
       " 'matchingLearningRateLowerBound': 0.1,\n",
       " 'crammingRule': 'ri_sro',\n",
       " 'reorganizingRule': 'ri_sro',\n",
       " 'regularizingTimes': 10,\n",
       " 'regularizingStrength': 0.001,\n",
       " 'regularizingLearningGoal': 0.6,\n",
       " 'regularizingLearningRateLowerBound': 0.001}"
      ]
     },
     "execution_count": 71,
     "metadata": {},
     "output_type": "execute_result"
    }
   ],
   "source": [
    "network.linear1.weight.data\n",
    "network.state_dict().values()\n",
    "network.model_params"
   ]
  },
  {
   "cell_type": "code",
   "execution_count": 48,
   "metadata": {},
   "outputs": [
    {
     "data": {
      "text/plain": [
       "[('linear1.weight',\n",
       "  tensor([[-0.0849,  0.8540,  0.0095, -0.0093,  0.0000, -0.4899,  0.0000, -0.0090,\n",
       "            0.0093,  0.0090, -0.0090,  0.0090],\n",
       "          [ 0.4963,  0.7682,  0.0885,  0.1320,  0.3074,  0.6341,  0.4901,  0.8964,\n",
       "            0.4556,  0.6323,  0.3489,  0.4017],\n",
       "          [ 0.4963,  0.7682,  0.0885,  0.1320,  0.3074,  0.6341,  0.4901,  0.8964,\n",
       "            0.4556,  0.6323,  0.3489,  0.4017],\n",
       "          [ 0.4963,  0.7682,  0.0885,  0.1320,  0.3074,  0.6341,  0.4901,  0.8964,\n",
       "            0.4556,  0.6323,  0.3489,  0.4017],\n",
       "          [ 0.4963,  0.7682,  0.0885,  0.1320,  0.3074,  0.6341,  0.4901,  0.8964,\n",
       "            0.4556,  0.6323,  0.3489,  0.4017],\n",
       "          [ 0.4963,  0.7682,  0.0885,  0.1320,  0.3074,  0.6341,  0.4901,  0.8964,\n",
       "            0.4556,  0.6323,  0.3489,  0.4017],\n",
       "          [ 0.4963,  0.7682,  0.0885,  0.1320,  0.3074,  0.6341,  0.4901,  0.8964,\n",
       "            0.4556,  0.6323,  0.3489,  0.4017]])),\n",
       " ('linear1.bias',\n",
       "  tensor([ 1.5703,  1.1369,  1.1146,  1.0923, -1.1685, -1.1909, -1.2132])),\n",
       " ('linear2.weight',\n",
       "  tensor([[  0.9362, -31.4226,  62.8452, -31.4226,  47.2325, -94.4649,  47.2325]])),\n",
       " ('linear2.bias', tensor([-1.3162]))]"
      ]
     },
     "execution_count": 48,
     "metadata": {},
     "output_type": "execute_result"
    }
   ],
   "source": [
    "list(network.state_dict().items())"
   ]
  },
  {
   "cell_type": "code",
   "execution_count": 59,
   "metadata": {},
   "outputs": [],
   "source": [
    "def odct_tensor2list(network):\n",
    "\n",
    "    old_network = {}\n",
    "    for dct in network.state_dict().items():\n",
    "        key, value = dct\n",
    "        old_network[key] = value.tolist()\n",
    "    return old_network\n",
    "    \n",
    "old_network = odct_tensor2list(network)"
   ]
  },
  {
   "cell_type": "code",
   "execution_count": 84,
   "metadata": {},
   "outputs": [
    {
     "data": {
      "text/plain": [
       "{'dataDirectory': 'solar',\n",
       " 'dataDescribing': 'ri_sro',\n",
       " 'dataShape': {'X': (70, 12), 'Y': (70, 1)},\n",
       " 'modelFile': 'ASLFN.py',\n",
       " 'inputDimension': 12,\n",
       " 'hiddenNode': 10,\n",
       " 'outputDimension': 1,\n",
       " 'weightInitialization': 'xavierNormal',\n",
       " 'activationFunction': 'ReLU',\n",
       " 'lossFunction': 'RMSE',\n",
       " 'optimizer': 'Adam',\n",
       " 'learningRate': 0.0007704439939703728,\n",
       " 'betas': (0.9, 0.999),\n",
       " 'eps': 1e-08,\n",
       " 'weightDecay': 0.01,\n",
       " 'initializingRule': 'LinearRegression',\n",
       " 'initializingNumber': 10,\n",
       " 'learningGoal': 0.6,\n",
       " 'selectingRule': 'LTS',\n",
       " 'matchingRule': 'EU_LG_UA',\n",
       " 'matchingTimes': 10,\n",
       " 'matchingLearningGoal': 0.6,\n",
       " 'matchingLearningRateLowerBound': 0.1,\n",
       " 'crammingRule': 'ri_sro',\n",
       " 'reorganizingRule': 'ri_sro',\n",
       " 'regularizingTimes': 10,\n",
       " 'regularizingStrength': 0.001,\n",
       " 'regularizingLearningGoal': 0.6,\n",
       " 'regularizingLearningRateLowerBound': 0.001}"
      ]
     },
     "execution_count": 84,
     "metadata": {},
     "output_type": "execute_result"
    }
   ],
   "source": [
    "network.model_params"
   ]
  },
  {
   "cell_type": "code",
   "execution_count": null,
   "metadata": {},
   "outputs": [],
   "source": [
    "import requests\n",
    "\n",
    "res = requests.post(f\"http://127.0.0.1:8005/train\", json={\"network\": old_network, \"model_params\" : network.model_params})\n",
    "res.json()"
   ]
  },
  {
   "cell_type": "code",
   "execution_count": 98,
   "metadata": {},
   "outputs": [
    {
     "data": {
      "text/plain": [
       "<Response [500]>"
      ]
     },
     "execution_count": 98,
     "metadata": {},
     "output_type": "execute_result"
    }
   ],
   "source": [
    "matching = requests.post\n",
    "matching(f\"http://127.0.0.1:8005/train\", json={\"network\": old_network, \"model_params\" : network.model_params})"
   ]
  }
 ],
 "metadata": {
  "kernelspec": {
   "display_name": "Python 3.9.12 ('base')",
   "language": "python",
   "name": "python3"
  },
  "language_info": {
   "codemirror_mode": {
    "name": "ipython",
    "version": 3
   },
   "file_extension": ".py",
   "mimetype": "text/x-python",
   "name": "python",
   "nbconvert_exporter": "python",
   "pygments_lexer": "ipython3",
   "version": "3.9.12 (main, Apr  4 2022, 05:22:27) [MSC v.1916 64 bit (AMD64)]"
  },
  "orig_nbformat": 4,
  "vscode": {
   "interpreter": {
    "hash": "a077222d77dfe082b8f1dd562ad70e458ac2ab76993a0b248ab0476e32e9e8dd"
   }
  }
 },
 "nbformat": 4,
 "nbformat_minor": 2
}
