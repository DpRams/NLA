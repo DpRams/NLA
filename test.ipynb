{
 "cells": [
  {
   "cell_type": "code",
   "execution_count": 5,
   "metadata": {},
   "outputs": [
    {
     "name": "stdout",
     "output_type": "stream",
     "text": [
      "{'message': 'Successfuly uploaded acc.png'}\n"
     ]
    }
   ],
   "source": [
    "import requests\n",
    "\n",
    "url = 'http://127.0.0.1:8000/pipeline/data/upload'\n",
    "file = {'file': open(r'C:\\Users\\ZZ01GI858\\Desktop\\research\\project\\static\\img\\acc.png', 'rb')}\n",
    "resp = requests.post(url=url, files=file) \n",
    "print(resp.json())"
   ]
  },
  {
   "cell_type": "code",
   "execution_count": 32,
   "metadata": {},
   "outputs": [],
   "source": [
    "def build_net(**model_params):\n",
    "\n",
    "    class MyNet():\n",
    "        def __init__(self, **model_params):\n",
    "            \n",
    "            self.model_params = model_params\n",
    "\n",
    "        def check(self, num):\n",
    "            print(num)\n",
    "\n",
    "    # net = MyNet(**model_params)\n",
    "\n",
    "    class MyNet2(MyNet):\n",
    "        def __init__(self, **model_params):\n",
    "            super().__init__(**model_params)\n",
    "\n",
    "        def check(self, num):\n",
    "            print(num+123)\n",
    "\n",
    "\n",
    "    net = MyNet2(**model_params)\n",
    "\n",
    "    return net"
   ]
  },
  {
   "cell_type": "code",
   "execution_count": 33,
   "metadata": {},
   "outputs": [
    {
     "name": "stdout",
     "output_type": "stream",
     "text": [
      "246\n",
      "None\n",
      "{'a': 123, 'b': 456, 'c': 789}\n"
     ]
    }
   ],
   "source": [
    "net = build_net(a=123, b=456, c=789)\n",
    "print(net.check(123))\n",
    "print(net.model_params)"
   ]
  },
  {
   "cell_type": "code",
   "execution_count": 4,
   "metadata": {},
   "outputs": [
    {
     "data": {
      "text/plain": [
       "(34, 7)"
      ]
     },
     "execution_count": 4,
     "metadata": {},
     "output_type": "execute_result"
    }
   ],
   "source": [
    "import pandas as pd \n",
    "\n",
    "a = pd.read_csv(\"C:\\\\Users\\\\user\\\\rams\\\\projcet\\\\upload_data\\\\hospice\\\\X_case_104to108_34.csv\")\n",
    "a.shape"
   ]
  },
  {
   "cell_type": "markdown",
   "metadata": {},
   "source": [
    "[Python - 淺複製(shallow copy)與深複製(deep copy)](https://ithelp.ithome.com.tw/articles/10221255)"
   ]
  },
  {
   "cell_type": "code",
   "execution_count": 10,
   "metadata": {},
   "outputs": [
    {
     "name": "stdout",
     "output_type": "stream",
     "text": [
      "a:  [1, 2, 3, 4]\n",
      "a_ref:  [1, 2, 3, 4]\n"
     ]
    }
   ],
   "source": [
    "a = [1,2,3]\n",
    "a_ref = a\n",
    "a.append(4)\n",
    "print(\"a: \", a)\n",
    "print(\"a_ref: \", a)"
   ]
  },
  {
   "cell_type": "code",
   "execution_count": 11,
   "metadata": {},
   "outputs": [
    {
     "name": "stdout",
     "output_type": "stream",
     "text": [
      "Shallow copy\n",
      "a_list:  [1, 2, 3, 4]\n",
      "a_index:  [1, 2, 3, 4]\n",
      "a_copy:  [1, 2, 3, 4]\n"
     ]
    }
   ],
   "source": [
    "a_list = list(a)\n",
    "a_index = a[:]\n",
    "a_copy = a.copy()\n",
    "a.append(5)\n",
    "print(\"Shallow copy\")\n",
    "print(\"a_list: \", a_list)\n",
    "print(\"a_index: \", a_index)\n",
    "print(\"a_copy: \", a_copy)"
   ]
  },
  {
   "cell_type": "code",
   "execution_count": 12,
   "metadata": {},
   "outputs": [
    {
     "name": "stdout",
     "output_type": "stream",
     "text": [
      "a:             [1, [2, 3]]         id:2190286411392\n",
      "a_shallow_copy:[1, [2, 3]]         id:2190286412160\n",
      "a_deepcopy:    [1, [2, 3]]         id:2190266004864\n",
      "\n",
      "Change immutable part: a[0] = 4\n",
      "a:             [4, [2, 3]]         id:2190286411392\n",
      "a_shallow_copy:[1, [2, 3]]         id:2190286412160\n",
      "a_deepcopy:    [1, [2, 3]]         id:2190266004864\n"
     ]
    }
   ],
   "source": [
    "import copy\n",
    "a = [1, [2,3]]\n",
    "a_ref = a\n",
    "a_shallowcopy = copy.copy(a)\n",
    "a_deepcopy = copy.deepcopy(a)\n",
    "\n",
    "print(\"{:<15}{:<20}{}\".format(\"a:\", f\"{a}\", f\"id:{id(a_ref)}\"))\n",
    "print(\"{:<15}{:<20}{}\".format(\"a_shallow_copy:\", f\"{a_shallowcopy}\", f\"id:{id(a_shallowcopy)}\"))\n",
    "print(\"{:<15}{:<20}{}\".format(\"a_deepcopy:\", f\"{a_deepcopy}\", f\"id:{id(a_deepcopy)}\"))\n",
    "\n",
    "a[0] = 4\n",
    "print(\"\\nChange immutable part: a[0] = 4\")\n",
    "print(\"{:<15}{:<20}{}\".format(\"a:\", f\"{a}\", f\"id:{id(a_ref)}\"))\n",
    "print(\"{:<15}{:<20}{}\".format(\"a_shallow_copy:\", f\"{a_shallowcopy}\", f\"id:{id(a_shallowcopy)}\"))\n",
    "print(\"{:<15}{:<20}{}\".format(\"a_deepcopy:\", f\"{a_deepcopy}\", f\"id:{id(a_deepcopy)}\"))"
   ]
  },
  {
   "cell_type": "code",
   "execution_count": 13,
   "metadata": {},
   "outputs": [
    {
     "name": "stdout",
     "output_type": "stream",
     "text": [
      "\n",
      "Change mutable part: a[1][1] = 5\n",
      "a:                  [4, [2, 5]]         id:2190286411392\n",
      "a_shallow_copy:     [1, [2, 5]]         id:2190286412160\n",
      "a_deepcopy:         [1, [2, 3]]         id:2190266004864\n",
      "\n",
      "Check variable id at deep level\n",
      "a[1][1]:            5                   id:2190183983536\n",
      "a_shallowcopy[1][1]:5                   id:2190183983536\n",
      "a_deepcopy[1][1]:   3                   id:2190183983472\n"
     ]
    }
   ],
   "source": [
    "a[1][1] = 5\n",
    "print(\"\\nChange mutable part: a[1][1] = 5\")\n",
    "print(\"{:<20}{:<20}{}\".format(\"a:\", f\"{a}\", f\"id:{id(a_ref)}\"))\n",
    "print(\"{:<20}{:<20}{}\".format(\"a_shallow_copy:\", f\"{a_shallowcopy}\", f\"id:{id(a_shallowcopy)}\"))\n",
    "print(\"{:<20}{:<20}{}\".format(\"a_deepcopy:\", f\"{a_deepcopy}\", f\"id:{id(a_deepcopy)}\"))\n",
    "\n",
    "print(\"\\nCheck variable id at deep level\")\n",
    "print(\"{:<20}{:<20}{}\".format(\"a[1][1]:\", f\"{a[1][1]}\", f\"id:{id(a[1][1])}\"))\n",
    "print(\"{:<20}{:<20}{}\".format(\"a_shallowcopy[1][1]:\", f\"{a_shallowcopy[1][1]}\", f\"id:{id(a_shallowcopy[1][1])}\"))\n",
    "print(\"{:<20}{:<20}{}\".format(\"a_deepcopy[1][1]:\", f\"{a_deepcopy[1][1]}\", f\"id:{id(a_deepcopy[1][1])}\"))"
   ]
  },
  {
   "cell_type": "markdown",
   "metadata": {},
   "source": [
    "Test for multi class"
   ]
  },
  {
   "cell_type": "markdown",
   "metadata": {},
   "source": [
    "Eval，字串轉 class.function()"
   ]
  },
  {
   "cell_type": "code",
   "execution_count": 1,
   "metadata": {},
   "outputs": [],
   "source": [
    "class A():\n",
    "    def B():\n",
    "        print(123)\n",
    "\n"
   ]
  },
  {
   "cell_type": "code",
   "execution_count": 8,
   "metadata": {},
   "outputs": [
    {
     "name": "stdout",
     "output_type": "stream",
     "text": [
      "123\n"
     ]
    }
   ],
   "source": [
    "A.B()\n"
   ]
  },
  {
   "cell_type": "code",
   "execution_count": 9,
   "metadata": {},
   "outputs": [
    {
     "name": "stdout",
     "output_type": "stream",
     "text": [
      "123\n"
     ]
    }
   ],
   "source": [
    "fn = \"A.B\"\n",
    "eval(fn)()"
   ]
  },
  {
   "cell_type": "code",
   "execution_count": 1,
   "metadata": {},
   "outputs": [],
   "source": [
    "# git add/commit/push automatically\n",
    "from subprocess import Popen\n",
    "p = Popen(\"autoPush.bat\", cwd=r\"C:\\Users\\user\\rams\\projcet\")\n",
    "stdout, stderr = p.communicate()"
   ]
  },
  {
   "cell_type": "code",
   "execution_count": 3,
   "metadata": {},
   "outputs": [
    {
     "ename": "ModuleNotFoundError",
     "evalue": "No module named 'numpy'",
     "output_type": "error",
     "traceback": [
      "\u001b[1;31m---------------------------------------------------------------------------\u001b[0m",
      "\u001b[1;31mModuleNotFoundError\u001b[0m                       Traceback (most recent call last)",
      "\u001b[1;32mc:\\Users\\user\\rams\\projcet\\test.ipynb Cell 16\u001b[0m in \u001b[0;36m<cell line: 1>\u001b[1;34m()\u001b[0m\n\u001b[1;32m----> <a href='vscode-notebook-cell:/c%3A/Users/user/rams/projcet/test.ipynb#X21sZmlsZQ%3D%3D?line=0'>1</a>\u001b[0m \u001b[39mimport\u001b[39;00m \u001b[39mnumpy\u001b[39;00m \u001b[39mas\u001b[39;00m \u001b[39mnp\u001b[39;00m\n\u001b[0;32m      <a href='vscode-notebook-cell:/c%3A/Users/user/rams/projcet/test.ipynb#X21sZmlsZQ%3D%3D?line=1'>2</a>\u001b[0m [\u001b[39m1\u001b[39m,\u001b[39m2\u001b[39m,\u001b[39m3\u001b[39m]\n\u001b[0;32m      <a href='vscode-notebook-cell:/c%3A/Users/user/rams/projcet/test.ipynb#X21sZmlsZQ%3D%3D?line=2'>3</a>\u001b[0m np\u001b[39m.\u001b[39mmean([\u001b[39m1\u001b[39m,\u001b[39m2\u001b[39m,\u001b[39m3\u001b[39m])\n",
      "\u001b[1;31mModuleNotFoundError\u001b[0m: No module named 'numpy'"
     ]
    }
   ],
   "source": [
    "import numpy as np\n",
    "[1,2,3]\n",
    "np.mean([1,2,3])"
   ]
  },
  {
   "cell_type": "code",
   "execution_count": 5,
   "metadata": {},
   "outputs": [
    {
     "data": {
      "text/plain": [
       "0"
      ]
     },
     "execution_count": 5,
     "metadata": {},
     "output_type": "execute_result"
    }
   ],
   "source": [
    "import pandas as pd \n",
    "df = pd.read_csv(\"model_deploying\\\\testing.csv\")\n",
    "len(df)"
   ]
  }
 ],
 "metadata": {
  "kernelspec": {
   "display_name": "Python 3.9.12 ('general')",
   "language": "python",
   "name": "python3"
  },
  "language_info": {
   "codemirror_mode": {
    "name": "ipython",
    "version": 3
   },
   "file_extension": ".py",
   "mimetype": "text/x-python",
   "name": "python",
   "nbconvert_exporter": "python",
   "pygments_lexer": "ipython3",
   "version": "3.9.12"
  },
  "orig_nbformat": 4,
  "vscode": {
   "interpreter": {
    "hash": "143f2bea56bd7b43e07a082e680a4f90d13148133a4b83560eb0ede5c0956ddc"
   }
  }
 },
 "nbformat": 4,
 "nbformat_minor": 2
}
