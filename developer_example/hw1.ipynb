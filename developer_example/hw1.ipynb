{
 "cells": [
  {
   "attachments": {},
   "cell_type": "markdown",
   "metadata": {},
   "source": [
    "### Define the hyperparemeters of the customized model"
   ]
  },
  {
   "attachments": {},
   "cell_type": "markdown",
   "metadata": {},
   "source": [
    "Example setting for hyperparameters\n",
    "\n",
    "dataDirectory = \"solar\"\n",
    "\n",
    "hiddenNode = \"10\"\n",
    "\n",
    "weightInitialization = \"xavierUniform\"\n",
    "\n",
    "activationFunction = \"tanh\"\n",
    "\n",
    "epoch = \"4\"\n",
    "\n",
    "lossFunction = \"MSE\" \n",
    "\n",
    "regularizationTerm = \"0.001\"\n",
    "\n",
    "optimizer = \"gradientDescent\"\n",
    "\n",
    "learningRateDecayScheduler = \"Cosine\"\n",
    "\n",
    "studentId = \"110356021\"\n"
   ]
  },
  {
   "cell_type": "code",
   "execution_count": null,
   "metadata": {},
   "outputs": [],
   "source": [
    "dataDirectory = \"\"              # \"solar\", \"hospice\"\n",
    "hiddenNode = \"\"                 # any integer\n",
    "weightInitialization = \"\"       # \"xavierNormal\", \"xavierUniform\", \"kaimingNormal\", \"kaimingUniform\"\n",
    "activationFunction = \"\"         # \"ReLU\", \"tanh\"\n",
    "epoch = \"\"                      # any integer\n",
    "lossFunction = \"MSE\"  \n",
    "regularizationTerm = \"\"         # \"0\", \"0.001\", \"0.0001\"\n",
    "optimizer = \"\"                  # \"Adam\", \"gradientDescent\", \"Momentum\"\n",
    "learningRateDecayScheduler = \"\" # \"None\", \"Cosine\"\n",
    "studentId = \"\"                  # Your student ID, e.g., \"110356021\"\n"
   ]
  },
  {
   "attachments": {},
   "cell_type": "markdown",
   "metadata": {},
   "source": [
    "POST a request to train a Hw1 model"
   ]
  },
  {
   "cell_type": "code",
   "execution_count": 9,
   "metadata": {},
   "outputs": [
    {
     "name": "stdout",
     "output_type": "stream",
     "text": [
      "已成功建立模型，請到 http://140.119.19.87/pipeline/model/hw1/ensemble 確認模型\n"
     ]
    }
   ],
   "source": [
    "import requests\n",
    "\n",
    "\n",
    "URL = \"http://140.119.19.87/pipeline/model/hw1\"\n",
    "data = {\"dataDirectory\" : dataDirectory, \\\n",
    "        \"hiddenNode\" : hiddenNode, \\\n",
    "        \"weightInitialization\" : weightInitialization, \\\n",
    "        \"activationFunction\" : activationFunction, \\\n",
    "        \"epoch\" : epoch, \\\n",
    "        \"lossFunction\" : lossFunction, \\\n",
    "        \"regularizationTerm\" : regularizationTerm, \\\n",
    "        \"optimizer\" : optimizer, \\\n",
    "        \"learningRateDecayScheduler\" : learningRateDecayScheduler, \\\n",
    "        \"studentId\" : studentId\n",
    "        }\n",
    "\n",
    "res = requests.post(URL, data=data)\n",
    "\n",
    "if res.status_code == 200:\n",
    "    print(\"已成功建立模型，請到 http://140.119.19.87/pipeline/model/hw1/ensemble 確認模型\")\n",
    "else:\n",
    "    print(f'錯誤碼: {res.status_code} - {res.reason}')"
   ]
  }
 ],
 "metadata": {
  "kernelspec": {
   "display_name": "base",
   "language": "python",
   "name": "python3"
  },
  "language_info": {
   "codemirror_mode": {
    "name": "ipython",
    "version": 3
   },
   "file_extension": ".py",
   "mimetype": "text/x-python",
   "name": "python",
   "nbconvert_exporter": "python",
   "pygments_lexer": "ipython3",
   "version": "3.9.12"
  },
  "orig_nbformat": 4
 },
 "nbformat": 4,
 "nbformat_minor": 2
}
